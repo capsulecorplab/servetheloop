{
 "cells": [
  {
   "cell_type": "markdown",
   "metadata": {},
   "source": [
    "Start with the [Final Design Report - SpaceX Hyperloop Competition II](https://docs.google.com/document/d/1hyogomFuVGdqFvfEXUbZIXLHo9criAaaacCzKdJOAAI/edit#heading=h.w2vffwmkv6le) for high level view.  "
   ]
  },
  {
   "cell_type": "markdown",
   "metadata": {},
   "source": [
    "[SpaceX Hyperloop Track Specification](https://drive.google.com/file/d/0B5CvmK-zagQgOENzR3hsT2JkXzVEUjAyajBfcGUyVkpqekJR/view)"
   ]
  },
  {
   "cell_type": "code",
   "execution_count": 1,
   "metadata": {
    "collapsed": true
   },
   "outputs": [],
   "source": [
    "import sympy"
   ]
  },
  {
   "cell_type": "code",
   "execution_count": 13,
   "metadata": {
    "collapsed": false
   },
   "outputs": [],
   "source": [
    "from sympy import Eq, solve, Symbol, symbols, pi"
   ]
  },
  {
   "cell_type": "code",
   "execution_count": 6,
   "metadata": {
    "collapsed": true
   },
   "outputs": [],
   "source": [
    "from sympy import Rational as Rat"
   ]
  },
  {
   "cell_type": "code",
   "execution_count": 7,
   "metadata": {
    "collapsed": true
   },
   "outputs": [],
   "source": [
    "from sympy.abc import tau,l,F"
   ]
  },
  {
   "cell_type": "markdown",
   "metadata": {
    "collapsed": true
   },
   "source": [
    "## Ball Screws, for the (Eddy current) Brake Mechanism"
   ]
  },
  {
   "cell_type": "markdown",
   "metadata": {},
   "source": [
    "cf. [THK Ball Screw, General Catalog](https://www.thk.com/sites/default/files/documents/uk_pdf/product/general/a/ee_A15.pdf)"
   ]
  },
  {
   "cell_type": "markdown",
   "metadata": {},
   "source": [
    "cf. [NSK Ball Screws: 6mm ⌀ thru 15mm ⌀](http://www.automation-overstock.com/proddetail.asp?prod=W1003WF-24P-C3Z4)"
   ]
  },
  {
   "cell_type": "markdown",
   "metadata": {},
   "source": [
    "cf. [FUNdaMENTALS of Design, Topic 6 Power Transmission Elements II](http://web.mit.edu/2.75/fundamentals/FUNdaMENTALs%20Book%20pdf/FUNdaMENTALs%20Topic%206.PDF)"
   ]
  },
  {
   "cell_type": "markdown",
   "metadata": {},
   "source": [
    "The [THK Ball Screw, General Catalog](https://www.thk.com/sites/default/files/documents/uk_pdf/product/general/a/ee_A15.pdf) yields the following general relationship for the *thrust generated when torque is applied*:  \n",
    "\n",
    "$ Fa = \\frac{ 2\\pi \\cdot \\eta_1 \\cdot T }{ Ph }$  (THK's notation)  \n",
    "\n",
    "$ \\boxed{ F = \\frac{2\\pi \\eta_1 \\tau}{l} }$ (EY notation)  \n",
    "\n",
    "where $\\eta_1$ is the efficiency of converting rotational motion to linear motion (i.e. linear output$/$ rotational input), $l$ is the thread *lead* (i.e. distance either the nut or screw moves, under 1 full rotation (revolution)), and $\\tau$ is the *applied input torque*.  Indeed, I had double-checked the kinematics and thus, using energy conversation, verified this relation (cf. [servetheloop_dump](https://github.com/ernestyalumni/servetheloop/blob/master/LaTeXandpdfs/servetheloop_dump.pdf))"
   ]
  },
  {
   "cell_type": "code",
   "execution_count": 9,
   "metadata": {
    "collapsed": true
   },
   "outputs": [],
   "source": [
    "eta_1 = Symbol('eta_1',positive='True')"
   ]
  },
  {
   "cell_type": "code",
   "execution_count": 10,
   "metadata": {
    "collapsed": true
   },
   "outputs": [],
   "source": [
    "BallScrewThrustfromTorque = Eq(F,Rat(2)*pi*eta_1*tau/l)"
   ]
  },
  {
   "cell_type": "markdown",
   "metadata": {},
   "source": [
    "From [NSK Ball Screws: 6mm ⌀ thru 15mm ⌀](http://www.automation-overstock.com/proddetail.asp?prod=W1003WF-24P-C3Z4), given the stated product dimensions for the actual produce we had used (**Product ID: W1003WF-24P-C3Z4** for the ball screw), $l=4 \\, mm$  \n",
    "\n"
   ]
  },
  {
   "cell_type": "markdown",
   "metadata": {},
   "source": [
    "Supposing the forward or backward efficiency $\\eta$ is $ \\sim 0.95$ and torque $\\tau$ is $3 \\, N \\cdot m$, "
   ]
  },
  {
   "cell_type": "code",
   "execution_count": 14,
   "metadata": {
    "collapsed": false
   },
   "outputs": [
    {
     "data": {
      "text/plain": [
       "[4476.76953136545]"
      ]
     },
     "execution_count": 14,
     "metadata": {},
     "output_type": "execute_result"
    }
   ],
   "source": [
    "solve( BallScrewThrustfromTorque.subs(eta_1,0.95).subs(tau,3.*1000).subs(l,4.), F)"
   ]
  },
  {
   "cell_type": "markdown",
   "metadata": {},
   "source": [
    "So $F_{\\e"
   ]
  }
 ],
 "metadata": {
  "kernelspec": {
   "display_name": "Python 2",
   "language": "python",
   "name": "python2"
  },
  "language_info": {
   "codemirror_mode": {
    "name": "ipython",
    "version": 2
   },
   "file_extension": ".py",
   "mimetype": "text/x-python",
   "name": "python",
   "nbconvert_exporter": "python",
   "pygments_lexer": "ipython2",
   "version": "2.7.11"
  }
 },
 "nbformat": 4,
 "nbformat_minor": 0
}
