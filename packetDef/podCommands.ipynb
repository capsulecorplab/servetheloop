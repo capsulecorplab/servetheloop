{
 "cells": [
  {
   "cell_type": "markdown",
   "metadata": {},
   "source": [
    "# `server/udp/podCommands.js` - from node.js /JavaScript to Python (object)"
   ]
  },
  {
   "cell_type": "code",
   "execution_count": 1,
   "metadata": {
    "collapsed": true
   },
   "outputs": [],
   "source": [
    "# find out where we are on the file directory\n",
    "import os, sys"
   ]
  },
  {
   "cell_type": "code",
   "execution_count": 3,
   "metadata": {
    "collapsed": false
   },
   "outputs": [
    {
     "name": "stdout",
     "output_type": "stream",
     "text": [
      "/home/topolo/PropD/servetheloop/packetDef\n",
      "['.ipynb_checkpoints', 'reactGS', 'podCommands.ipynb', 'react-GS_node_to_py_to_YAML.ipynb']\n"
     ]
    }
   ],
   "source": [
    "print( os.getcwd())\n",
    "print( os.listdir(os.getcwd()))"
   ]
  },
  {
   "cell_type": "markdown",
   "metadata": {},
   "source": [
    "The `reactGS` folder \"mimics\" the actual `react-groundstation` github repository, only copying the file directory structure, but the source code itself (which is a lot) isn't completely copied over.  I wanted to keep these scripts/notebooks/files built on top of that github repository to be separate from the actual working code.  "
   ]
  },
  {
   "cell_type": "code",
   "execution_count": 6,
   "metadata": {
    "collapsed": false
   },
   "outputs": [
    {
     "name": "stdout",
     "output_type": "stream",
     "text": [
      "/home/topolo/PropD/servetheloop/packetDef/reactGS/server/udp/\n"
     ]
    }
   ],
   "source": [
    "wherepodCommandsis = os.getcwd()+'/reactGS/server/udp/' \n",
    "print(wherepodCommandsis)"
   ]
  },
  {
   "cell_type": "markdown",
   "metadata": {},
   "source": [
    "## `node.js`/(JavaScript) to `json`; i.e. \n",
    "\n",
    "## `node.js`/(JavaScript) $\\to$ `json`    \n",
    "\n",
    "Make a copy of `server/udp/podCommands.js`.  \n",
    "\n",
    "In this copy, comment out `var chalk = require('chalk')` (this is the only thing you have to do manually).  \n",
    "\n",
    "Run this in the directory containing your copy of `podCommands.js`:\n",
    "\n",
    "```  \n",
    "node traverse_podCommands.js  \n",
    "```  \n",
    "\n",
    "This should generate a `json` file `podCmds_lst.json`"
   ]
  },
  {
   "cell_type": "markdown",
   "metadata": {},
   "source": [
    "# Available `podCommands` as a Python list; `json` to Python list, i.e. `json` $\\to$ Python list"
   ]
  },
  {
   "cell_type": "code",
   "execution_count": 7,
   "metadata": {
    "collapsed": true
   },
   "outputs": [],
   "source": [
    "import json"
   ]
  },
  {
   "cell_type": "code",
   "execution_count": 10,
   "metadata": {
    "collapsed": false
   },
   "outputs": [],
   "source": [
    "f_podCmds_json = open(wherepodCommandsis+'podCmds_lst.json','rb')\n",
    "rawjson_podCmds = f_podCmds_json.read()\n",
    "f_podCmds_json.close()"
   ]
  },
  {
   "cell_type": "code",
   "execution_count": 16,
   "metadata": {
    "collapsed": false
   },
   "outputs": [
    {
     "name": "stdout",
     "output_type": "stream",
     "text": [
      "<type 'str'>\n",
      "<type 'list'>\n",
      "104\n"
     ]
    }
   ],
   "source": [
    "print(type(rawjson_podCmds))\n",
    "podCmds_lst=json.loads(rawjson_podCmds)\n",
    "print(type(podCmds_lst))\n",
    "print(len(podCmds_lst)) # there are 104 available commands for the pod!"
   ]
  },
  {
   "cell_type": "code",
   "execution_count": 17,
   "metadata": {
    "collapsed": false
   },
   "outputs": [
    {
     "name": "stdout",
     "output_type": "stream",
     "text": [
      "GS_Heartbeat\n",
      "LGU_PositionChange\n",
      "LGU_SpeedChange\n",
      "FCUPod_Off\n",
      "FCUPod_Stop\n",
      "FCUPod_PowerLatch\n",
      "setBrakeDevelopmentMode\n",
      "FCUBrake_DisableDevelopmentMode\n",
      "FCUBrake_EnableDevelopmentMode\n",
      "FCUBrake_MoveMotorRAW\n",
      "FCUBrake_MoveMotorIBeam\n",
      "FCUBrake_BeginInit\n",
      "FCUBrake_MLPSetZeroLeftBrake\n",
      "FCUBrake_MLPSetZeroRightBrake\n",
      "FCUBrake_MLPSetSpanLeftBrake\n",
      "FCUBrake_MLPSetSpanRightBrake\n",
      "FCUStepper_SetMaxAngularAccel\n",
      "FCUStepper_SetPicoMetersPerRev\n",
      "FCUStepper_SetMaxRPM\n",
      "FCUStepper_SetMicroStepResolution\n",
      "FCUBrake_RequestDevelopmentMode\n",
      "FCUStreamingControlStart_AccelCalData\n",
      "FCUStreamingControlStart_AccelFullData\n",
      "FCUStreamingControlStop_Accel\n",
      "FCUStreamingControlStart_Brakes\n",
      "FCUStreamingControlStart_MotorsRaw\n",
      "FCUStreamingControlStart_Lasers\n",
      "FCUStreamingControlStart_ForwardLaser\n",
      "FCUAccel_FineZero\n",
      "FCUAccel_AutoZero\n",
      "FCUContrast_StartStream\n",
      "FCUContrast_StopStream\n",
      "PowerAStopAllManualDischarging\n",
      "PowerBStopAllManualDischarging\n",
      "PowerAPowerLatch\n",
      "PowerBPowerLatch\n",
      "PowerAChargeRelayOff\n",
      "PowerAChargeRelayOn\n",
      "PowerAStreamingOff\n",
      "PowerBStreamingOff\n",
      "PowerAStreamCurrentTemps\n",
      "PowerBStreamCurrentTemps\n",
      "PowerAStreamTempLocations\n",
      "PowerBStreamTempLocations\n",
      "PowerARequestRomID\n",
      "PowerBRequestRomID\n",
      "PowerAStartCharging\n",
      "PowerAStopCharging\n",
      "PowerBStartCharging\n",
      "PowerBStopCharging\n",
      "PowerAStartDischarging\n",
      "PowerAStopDischarging\n",
      "PowerBStartDischarging\n",
      "PowerBStopDischarging\n",
      "PowerARequestBMS\n",
      "PowerBRequestBMS\n",
      "PowerARequestCooling\n",
      "PowerAStartCooling\n",
      "PowerBRequestCooling\n",
      "PowerBStartCooling\n",
      "PowerAStartRepressurizing\n",
      "PowerBStartRepressurizing\n",
      "PowerATestSolenoidPin4\n",
      "PowerATestSolenoidPin8\n",
      "PowerATestSolenoidPin16\n",
      "PowerATestSolenoidPin22\n",
      "PowerATestSolenoidPin23\n",
      "PowerBTestSolenoidPin4\n",
      "PowerBTestSolenoidPin8\n",
      "PowerBTestSolenoidPin16\n",
      "PowerBTestSolenoidPin22\n",
      "PowerBTestSolenoidPin23\n",
      "PowerAToPowerB\n",
      "PowerBToPowerA\n",
      "PodSafePowerNodeA\n",
      "PodSafePowerNodeB\n",
      "ForcePreRunPhase\n",
      "FCUHover_Enable\n",
      "FCUHover_Disable\n",
      "FCUHover_EnableStaticHovering\n",
      "FCUHover_ReleaseStaticHovering\n",
      "FCUHover_EnableHEX\n",
      "FCUHover_DisableHEX\n",
      "FCUHover_SetHEXSpeed\n",
      "FCUHover_StartCooling\n",
      "FCUHover_StopCooling\n",
      "FCUHover_OpenSolenoid\n",
      "FCUAuxProp_Enable\n",
      "FCUAuxProp_Disable\n",
      "FCUAuxProp_SetSpeed\n",
      "FCUGimbal_Static\n",
      "FCUGimbal_FullBackwards\n",
      "XilinxSim_Start\n",
      "XilinxSim_Stop\n",
      "XilinxSim_Laser0On\n",
      "XilinxSim_Laser0Off\n",
      "XilinxSim_Laser1On\n",
      "XilinxSim_Laser1Off\n",
      "XilinxSim_Laser2On\n",
      "XilinxSim_Laser2Off\n",
      "AutoSequenceTest_Start\n",
      "AutoSequenceTest_Skip\n",
      "AutoSequenceTest_Kill\n",
      "AutoSequenceTest_Restart\n"
     ]
    }
   ],
   "source": [
    "for cmd in podCmds_lst: \n",
    "    print cmd"
   ]
  },
  {
   "cell_type": "code",
   "execution_count": null,
   "metadata": {
    "collapsed": true
   },
   "outputs": [],
   "source": []
  }
 ],
 "metadata": {
  "kernelspec": {
   "display_name": "Python 2",
   "language": "python",
   "name": "python2"
  },
  "language_info": {
   "codemirror_mode": {
    "name": "ipython",
    "version": 2
   },
   "file_extension": ".py",
   "mimetype": "text/x-python",
   "name": "python",
   "nbconvert_exporter": "python",
   "pygments_lexer": "ipython2",
   "version": "2.7.11"
  }
 },
 "nbformat": 4,
 "nbformat_minor": 0
}
