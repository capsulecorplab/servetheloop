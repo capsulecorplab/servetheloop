{
 "cells": [
  {
   "cell_type": "markdown",
   "metadata": {
    "deletable": true,
    "editable": true
   },
   "source": [
    "I show the packet definitions used for [`react-groundstation` github repository](https://github.com/rLoopTeam/react-groundstation), found in [`config/packetDefinitions.js`](https://github.com/rLoopTeam/react-groundstation/blob/master/config/packetDefinitions.js).  \n",
    "\n",
    "Taking that node.js file, then I run   \n",
    "```  \n",
    "node traverse_packetDef.js   \n",
    "```   \n",
    "which 1. pedagogically shows how you can use node.js to find out information directly from the react-groundstation code, and 2. generates JSON file `packetDefinitions.json` of these packet definitions, which can be manipulated here.  "
   ]
  },
  {
   "cell_type": "code",
   "execution_count": 1,
   "metadata": {
    "collapsed": true,
    "deletable": true,
    "editable": true
   },
   "outputs": [],
   "source": [
    "# find out where we are on the file directory\n",
    "import os, sys"
   ]
  },
  {
   "cell_type": "code",
   "execution_count": 2,
   "metadata": {
    "collapsed": false,
    "deletable": true,
    "editable": true
   },
   "outputs": [
    {
     "data": {
      "text/plain": [
       "'/home/mobicfd/ReacCFD/servetheloop/reactGS'"
      ]
     },
     "execution_count": 2,
     "metadata": {},
     "output_type": "execute_result"
    }
   ],
   "source": [
    "os.getcwd()"
   ]
  },
  {
   "cell_type": "code",
   "execution_count": 3,
   "metadata": {
    "collapsed": false,
    "deletable": true,
    "editable": true
   },
   "outputs": [
    {
     "data": {
      "text/plain": [
       "['packetDefinitions.ipynb',\n",
       " 'traverse_packetDef.js',\n",
       " '.ipynb_checkpoints',\n",
       " 'traverse_packetDef_draft.js',\n",
       " 'packetDefinitions.json',\n",
       " 'config']"
      ]
     },
     "execution_count": 3,
     "metadata": {},
     "output_type": "execute_result"
    }
   ],
   "source": [
    "os.listdir( os.getcwd() )"
   ]
  },
  {
   "cell_type": "code",
   "execution_count": 4,
   "metadata": {
    "collapsed": true,
    "deletable": true,
    "editable": true
   },
   "outputs": [],
   "source": [
    "f_packetDef_json = open('./packetDefinitions.json','rb')\n",
    "rawjson_packetDef = f_packetDef_json.read()\n",
    "f_packetDef_json.close()"
   ]
  },
  {
   "cell_type": "code",
   "execution_count": 5,
   "metadata": {
    "collapsed": true,
    "deletable": true,
    "editable": true
   },
   "outputs": [],
   "source": [
    "import json"
   ]
  },
  {
   "cell_type": "code",
   "execution_count": 7,
   "metadata": {
    "collapsed": false,
    "deletable": true,
    "editable": true
   },
   "outputs": [
    {
     "name": "stdout",
     "output_type": "stream",
     "text": [
      "32\n"
     ]
    }
   ],
   "source": [
    "packetdef_lst=json.loads(rawjson_packetDef)\n",
    "print(len(packetdef_lst)) # There are 32 packet definitions to consider "
   ]
  },
  {
   "cell_type": "code",
   "execution_count": 8,
   "metadata": {
    "collapsed": false,
    "deletable": true,
    "editable": true
   },
   "outputs": [
    {
     "data": {
      "text/plain": [
       "[u'Power A Current Temps',\n",
       " u'Power B Current Temps',\n",
       " u'Power A Current Temps Locations',\n",
       " u'Power B Current Temps Locations',\n",
       " u'Power A ROM ID',\n",
       " u'Power B ROM ID',\n",
       " u'Auto-sequence test',\n",
       " u'Power A BMS',\n",
       " u'Power B BMS',\n",
       " u'Power A Cooling',\n",
       " u'Accel Cal Full',\n",
       " u'Accel Data Full',\n",
       " u'Brake Cal Full',\n",
       " u'Brake data',\n",
       " u'Throttle parameters',\n",
       " u'Motor parameters',\n",
       " u'Laser Opto Sensor',\n",
       " u'Forward Laser Distance Sensor',\n",
       " u'Flight Control - Laser Contrast 0',\n",
       " u'FCU DAQ CPU LOAD',\n",
       " u'FCU DAQ ACCEL 0 X',\n",
       " u'FCU DAQ ACCEL 0 Y',\n",
       " u'FCU DAQ ACCEL 0 Z',\n",
       " u'FCU DAQ ACCEL 1 X',\n",
       " u'FCU DAQ ACCEL 1 Y',\n",
       " u'FCU DAQ ACCEL 1 Z',\n",
       " u'FCU DAQ ACCEL 0 ACCEL',\n",
       " u'FCU DAQ ACCEL 0 VELOCITY',\n",
       " u'FCU DAQ ACCEL 0 DISPLACEMENT',\n",
       " u'FCU DAQ ACCEL 1 ACCEL',\n",
       " u'FCU DAQ ACCEL 1 VELOCITY',\n",
       " u'FCU DAQ ACCEL 1 DISPLACEMENT']"
      ]
     },
     "execution_count": 8,
     "metadata": {},
     "output_type": "execute_result"
    }
   ],
   "source": [
    "# and the packet definitions are the following:\n",
    "[packetdef['Name'] for packetdef in packetdef_lst]"
   ]
  },
  {
   "cell_type": "markdown",
   "metadata": {
    "deletable": true,
    "editable": true
   },
   "source": [
    "For each packet definition, we can find out \"all sorts of things easily by \"indexing\" by the index or the \"key.\"  For example, for the first entry, \"Power A Current Temps\", we can do this:  "
   ]
  },
  {
   "cell_type": "code",
   "execution_count": 9,
   "metadata": {
    "collapsed": false,
    "deletable": true,
    "editable": true
   },
   "outputs": [
    {
     "name": "stdout",
     "output_type": "stream",
     "text": [
      "[u'Node', u'Name', u'Parameters', u'DAQ', u'PacketType', u'ParameterPrefix']\n",
      "Power A Current Temps\n",
      "Power Node A\n",
      "12801\n",
      "0x3201\n"
     ]
    }
   ],
   "source": [
    "print( packetdef_lst[0].keys())\n",
    "print( packetdef_lst[0]['Name'])\n",
    "print( packetdef_lst[0]['Node'])\n",
    "print( packetdef_lst[0]['PacketType'])\n",
    "print( hex( packetdef_lst[0]['PacketType']) )"
   ]
  },
  {
   "cell_type": "markdown",
   "metadata": {
    "deletable": true,
    "editable": true
   },
   "source": [
    "Notice that we used the built-in Python function `hex`, to print a decimal integer back into a hexadecimal form.  "
   ]
  },
  {
   "cell_type": "code",
   "execution_count": 15,
   "metadata": {
    "collapsed": false,
    "deletable": true,
    "editable": true
   },
   "outputs": [
    {
     "name": "stdout",
     "output_type": "stream",
     "text": [
      "3\n",
      "{u'units': u'', u'type': u'uint16', u'Name': u'Count', u'size': 2}\n",
      "{u'units': u'RAW', u'type': u'uint16', u'Name': u'Spare', u'size': 2}\n",
      "{u'Name': u'Temperature', u'beginLoop': True, u'units': u'C', u'type': u'float32', u'endLoop': True, u'size': 4}\n"
     ]
    }
   ],
   "source": [
    "print( len( packetdef_lst[0]['Parameters'] ) )\n",
    "for param in packetdef_lst[0]['Parameters']: # parameters for \"Power A Current Temps\"\n",
    "    print param"
   ]
  },
  {
   "cell_type": "markdown",
   "metadata": {
    "collapsed": true,
    "deletable": true,
    "editable": true
   },
   "source": [
    "If you rather work with a Python file or command line, then all the above has been implemented in `packetDefinitions.py`  "
   ]
  },
  {
   "cell_type": "code",
   "execution_count": 1,
   "metadata": {
    "collapsed": true
   },
   "outputs": [],
   "source": [
    "from packetDefinitions import read_json_file_return_list"
   ]
  },
  {
   "cell_type": "code",
   "execution_count": 2,
   "metadata": {
    "collapsed": true
   },
   "outputs": [],
   "source": [
    "packetDef_lst = read_json_file_return_list()"
   ]
  },
  {
   "cell_type": "code",
   "execution_count": 3,
   "metadata": {
    "collapsed": false
   },
   "outputs": [
    {
     "name": "stdout",
     "output_type": "stream",
     "text": [
      "<type 'list'>\n",
      "32\n",
      "(u'Power A Current Temps', u'Power Node A', '0x3201')\n",
      "(u'Power B Current Temps', u'Power Node B', '0x3201')\n",
      "(u'Power A Current Temps Locations', u'Power Node A', '0x3203')\n",
      "(u'Power B Current Temps Locations', u'Power Node B', '0x3203')\n",
      "(u'Power A ROM ID', u'Power Node A', '0x3205')\n",
      "(u'Power B ROM ID', u'Power Node B', '0x3205')\n",
      "(u'Auto-sequence test', u'Flight Control', '0x1901')\n",
      "(u'Power A BMS', u'Power Node A', '0x3401')\n",
      "(u'Power B BMS', u'Power Node B', '0x3401')\n",
      "(u'Power A Cooling', u'Power Node A', '0x3601')\n",
      "(u'Accel Cal Full', u'Flight Control', '0x1001')\n",
      "(u'Accel Data Full', u'Flight Control', '0x1003')\n",
      "(u'Brake Cal Full', u'Flight Control', '0x0')\n",
      "(u'Brake data', u'Flight Control', '0x1402')\n",
      "(u'Throttle parameters', u'Flight Control', '0x1503')\n",
      "(u'Motor parameters', u'Flight Control', '0x1406')\n",
      "(u'Laser Opto Sensor', u'Flight Control', '0x1101')\n",
      "(u'Forward Laser Distance Sensor', u'Flight Control', '0x1201')\n",
      "(u'Flight Control - Laser Contrast 0', u'Flight Control', '0x1301')\n",
      "(u'FCU DAQ CPU LOAD', u'Flight Control', '0x4000')\n",
      "(u'FCU DAQ ACCEL 0 X', u'Flight Control', '0x4001')\n",
      "(u'FCU DAQ ACCEL 0 Y', u'Flight Control', '0x4002')\n",
      "(u'FCU DAQ ACCEL 0 Z', u'Flight Control', '0x4003')\n",
      "(u'FCU DAQ ACCEL 1 X', u'Flight Control', '0x4004')\n",
      "(u'FCU DAQ ACCEL 1 Y', u'Flight Control', '0x4005')\n",
      "(u'FCU DAQ ACCEL 1 Z', u'Flight Control', '0x4006')\n",
      "(u'FCU DAQ ACCEL 0 ACCEL', u'Flight Control', '0x4007')\n",
      "(u'FCU DAQ ACCEL 0 VELOCITY', u'Flight Control', '0x4008')\n",
      "(u'FCU DAQ ACCEL 0 DISPLACEMENT', u'Flight Control', '0x4009')\n",
      "(u'FCU DAQ ACCEL 1 ACCEL', u'Flight Control', '0x400a')\n",
      "(u'FCU DAQ ACCEL 1 VELOCITY', u'Flight Control', '0x400c')\n",
      "(u'FCU DAQ ACCEL 1 DISPLACEMENT', u'Flight Control', '0x400d')\n"
     ]
    }
   ],
   "source": [
    "print(type(packetDef_lst)) \n",
    "print(len(packetDef_lst))\n",
    "for packetDef in packetDef_lst: \n",
    "    print( packetDef['Name'], packetDef['Node'], hex(packetDef['PacketType']) )"
   ]
  },
  {
   "cell_type": "code",
   "execution_count": null,
   "metadata": {
    "collapsed": true
   },
   "outputs": [],
   "source": []
  }
 ],
 "metadata": {
  "kernelspec": {
   "display_name": "Python 2",
   "language": "python",
   "name": "python2"
  },
  "language_info": {
   "codemirror_mode": {
    "name": "ipython",
    "version": 2
   },
   "file_extension": ".py",
   "mimetype": "text/x-python",
   "name": "python",
   "nbconvert_exporter": "python",
   "pygments_lexer": "ipython2",
   "version": "2.7.12"
  }
 },
 "nbformat": 4,
 "nbformat_minor": 2
}
