{
 "cells": [
  {
   "cell_type": "markdown",
   "metadata": {},
   "source": [
    "# CurveFit     \n",
    "\n",
    "Various (nonlinear) curve fitting methods needed at various times for the rloop capsule\n",
    "\n",
    "cf. [`capsulecorplab`'s github repository on `CurveFit`](https://github.com/capsulecorplab/CurveFit)"
   ]
  },
  {
   "cell_type": "code",
   "execution_count": 6,
   "metadata": {
    "collapsed": true
   },
   "outputs": [],
   "source": [
    "%matplotlib inline"
   ]
  },
  {
   "cell_type": "code",
   "execution_count": 1,
   "metadata": {
    "collapsed": true
   },
   "outputs": [],
   "source": [
    "import numpy as np\n",
    "import matplotlib.pyplot as plt\n",
    "import pandas as pd\n",
    "from scipy.optimize import curve_fit"
   ]
  },
  {
   "cell_type": "code",
   "execution_count": 25,
   "metadata": {
    "collapsed": true
   },
   "outputs": [],
   "source": [
    "from scipy.stats import gamma # for drag vs. v fit"
   ]
  },
  {
   "cell_type": "code",
   "execution_count": 10,
   "metadata": {
    "collapsed": true
   },
   "outputs": [],
   "source": [
    "SUBDIR = './rawdata/' # subdirectory with all data"
   ]
  },
  {
   "cell_type": "markdown",
   "metadata": {},
   "source": [
    "#### Starting example from [`www.walkingrandomly.com`](# http://www.walkingrandomly.com/images/python/least_squares/Python_nonlinear_least_squares.pdf)"
   ]
  },
  {
   "cell_type": "markdown",
   "metadata": {},
   "source": [
    "[`capsulecorplab`](https://github.com/capsulecorplab) started with this blog post on [Simple nonlinear least squares curve fitting in Python](http://www.walkingrandomly.com/?p=5215), which used this example (*only an example*) for the fitting function:   \n",
    "\n",
    "$$\n",
    "F(p_1,p_2,x)=p_1\\cos{(p_2x)} +p_2 \\sin{(p_1x)}  \n",
    "$$  \n",
    "\n",
    "cf. [`CurveFit/example_BestFit.py`](https://github.com/capsulecorplab/CurveFit/blob/master/example_BestFit.py)"
   ]
  },
  {
   "cell_type": "code",
   "execution_count": 3,
   "metadata": {
    "collapsed": true
   },
   "outputs": [],
   "source": [
    "xdata = np.array([-2,-1.64,-1.33,-0.7,0,0.45,1.2,1.64,2.32,2.9])\n",
    "ydata = np.array([0.699369,0.700462,0.695354,1.03905,1.97389,2.41143,1.91091,0.919576,-0.730975,-1.42001])"
   ]
  },
  {
   "cell_type": "code",
   "execution_count": 4,
   "metadata": {
    "collapsed": true
   },
   "outputs": [],
   "source": [
    "# define fit function\n",
    "def func(x, p1,p2):\n",
    "    return p1*np.cos(p2*x) + p2*np.sin(p1*x)"
   ]
  },
  {
   "cell_type": "code",
   "execution_count": 5,
   "metadata": {
    "collapsed": true
   },
   "outputs": [],
   "source": [
    "# Calculate and show fit parameters. Use a starting guess of p1=1 and p2=0.2\n",
    "popt, pcov = curve_fit(func, xdata, ydata,p0=(1.0,0.2))"
   ]
  },
  {
   "cell_type": "code",
   "execution_count": 7,
   "metadata": {
    "collapsed": true
   },
   "outputs": [],
   "source": [
    "# Calculate and show sum of squares of residuals since it’s not given by the curve_fit function\n",
    "p1 = popt[0]\n",
    "p2 = popt[1]\n",
    "\n",
    "residuals = ydata - func(xdata,p1,p2)\n",
    "fres = sum(residuals**2)"
   ]
  },
  {
   "cell_type": "code",
   "execution_count": 8,
   "metadata": {
    "collapsed": false
   },
   "outputs": [
    {
     "name": "stdout",
     "output_type": "stream",
     "text": [
      "popt [ 1.88185099  0.70022986]\n",
      "pcov [[  7.52408290e-04   1.00812823e-04]\n",
      " [  1.00812823e-04   8.37695698e-05]]\n",
      "p1 1.881850994\n",
      "p2 0.700229857403\n",
      "residuals [-0.02769065 -0.0322945  -0.0102489   0.05662436  0.09203901  0.09763049\n",
      "  0.1140355   0.10933381  0.02871569 -0.07004408]\n",
      "fres 0.0538126964188\n"
     ]
    }
   ],
   "source": [
    "print 'popt', popt\n",
    "print 'pcov', pcov\n",
    "print 'p1', p1\n",
    "print 'p2', p2\n",
    "print 'residuals', residuals\n",
    "print 'fres', fres"
   ]
  },
  {
   "cell_type": "code",
   "execution_count": 9,
   "metadata": {
    "collapsed": false
   },
   "outputs": [
    {
     "data": {
      "image/png": "[encoded data removed]",
      "text/plain": [
       "<matplotlib.figure.Figure at 0x7fbbf188dc90>"
      ]
     },
     "metadata": {},
     "output_type": "display_data"
    }
   ],
   "source": [
    "# Plot fitted curve along with data\n",
    "curvex=np.linspace(-2,3,100)\n",
    "curvey=func(curvex,p1,p2)\n",
    "plt.plot(xdata,ydata,'*')\n",
    "plt.plot(curvex,curvey,'r')\n",
    "plt.xlabel('xdata')\n",
    "plt.ylabel('ydata')\n",
    "\n",
    "plt.show()"
   ]
  },
  {
   "cell_type": "markdown",
   "metadata": {},
   "source": [
    "#### Applying this particular curvefit to ski data    \n",
    "\n",
    "cf. [`CurveFit/nonlinearFit.py`](https://github.com/capsulecorplab/CurveFit/blob/master/nonlinearFit.py)"
   ]
  },
  {
   "cell_type": "code",
   "execution_count": 12,
   "metadata": {
    "collapsed": false
   },
   "outputs": [],
   "source": [
    "# Read csv and save to a pandas data frame\n",
    "df = pd.read_csv(SUBDIR+'data.csv')"
   ]
  },
  {
   "cell_type": "code",
   "execution_count": 15,
   "metadata": {
    "collapsed": false
   },
   "outputs": [
    {
     "name": "stdout",
     "output_type": "stream",
     "text": [
      "       Unnamed: 0         drag          lift  Force2.Force_y          h  \\\n",
      "count   70.000000    70.000000     70.000000       70.000000  70.000000   \n",
      "mean    96.857143  2302.593430   1384.142781    -2282.303038   0.012400   \n",
      "std    115.732611  2758.891065   2719.441488     3018.344824   0.010989   \n",
      "min     16.000000     1.312715  -1208.633695   -11175.314369   0.002000   \n",
      "25%     28.000000   108.472943     -1.749933    -4063.892540   0.004000   \n",
      "50%     48.000000   879.314513    146.804587     -502.773080   0.008000   \n",
      "75%    115.000000  4272.365524   1910.715384      -29.166598   0.016000   \n",
      "max    425.000000  8697.564181  11217.223569      711.303141   0.032000   \n",
      "\n",
      "                v  \n",
      "count   70.000000  \n",
      "mean    29.242857  \n",
      "std     42.548416  \n",
      "min      0.100000  \n",
      "25%      4.000000  \n",
      "50%     11.500000  \n",
      "75%     30.000000  \n",
      "max    150.000000  \n"
     ]
    },
    {
     "data": {
      "text/html": [
       "<div>\n",
       "<table border=\"1\" class=\"dataframe\">\n",
       "  <thead>\n",
       "    <tr style=\"text-align: right;\">\n",
       "      <th></th>\n",
       "      <th>Unnamed: 0</th>\n",
       "      <th>drag</th>\n",
       "      <th>lift</th>\n",
       "      <th>Force2.Force_y</th>\n",
       "      <th>h</th>\n",
       "      <th>v</th>\n",
       "    </tr>\n",
       "  </thead>\n",
       "  <tbody>\n",
       "    <tr>\n",
       "      <th>0</th>\n",
       "      <td>16</td>\n",
       "      <td>212.182071</td>\n",
       "      <td>-854.307696</td>\n",
       "      <td>711.303141</td>\n",
       "      <td>0.002</td>\n",
       "      <td>0.1</td>\n",
       "    </tr>\n",
       "    <tr>\n",
       "      <th>1</th>\n",
       "      <td>16</td>\n",
       "      <td>135.148203</td>\n",
       "      <td>-548.182782</td>\n",
       "      <td>453.954050</td>\n",
       "      <td>0.004</td>\n",
       "      <td>0.1</td>\n",
       "    </tr>\n",
       "    <tr>\n",
       "      <th>2</th>\n",
       "      <td>16</td>\n",
       "      <td>56.376321</td>\n",
       "      <td>-225.854748</td>\n",
       "      <td>181.815611</td>\n",
       "      <td>0.008</td>\n",
       "      <td>0.1</td>\n",
       "    </tr>\n",
       "    <tr>\n",
       "      <th>3</th>\n",
       "      <td>16</td>\n",
       "      <td>9.859787</td>\n",
       "      <td>-36.330422</td>\n",
       "      <td>26.066436</td>\n",
       "      <td>0.016</td>\n",
       "      <td>0.1</td>\n",
       "    </tr>\n",
       "    <tr>\n",
       "      <th>4</th>\n",
       "      <td>16</td>\n",
       "      <td>1.312715</td>\n",
       "      <td>-1.262546</td>\n",
       "      <td>-4.156777</td>\n",
       "      <td>0.032</td>\n",
       "      <td>0.1</td>\n",
       "    </tr>\n",
       "  </tbody>\n",
       "</table>\n",
       "</div>"
      ],
      "text/plain": [
       "   Unnamed: 0        drag        lift  Force2.Force_y      h    v\n",
       "0          16  212.182071 -854.307696      711.303141  0.002  0.1\n",
       "1          16  135.148203 -548.182782      453.954050  0.004  0.1\n",
       "2          16   56.376321 -225.854748      181.815611  0.008  0.1\n",
       "3          16    9.859787  -36.330422       26.066436  0.016  0.1\n",
       "4          16    1.312715   -1.262546       -4.156777  0.032  0.1"
      ]
     },
     "execution_count": 15,
     "metadata": {},
     "output_type": "execute_result"
    }
   ],
   "source": [
    "print( df.describe() )\n",
    "df.head()"
   ]
  },
  {
   "cell_type": "code",
   "execution_count": 17,
   "metadata": {
    "collapsed": false
   },
   "outputs": [],
   "source": [
    "h = 0.002\t# use for data.csv\n",
    "\n",
    "ydata = np.array(df.drag[df.h == h])\n",
    "xdata = np.array(df.v[df.h == h])"
   ]
  },
  {
   "cell_type": "code",
   "execution_count": 18,
   "metadata": {
    "collapsed": false
   },
   "outputs": [
    {
     "ename": "RuntimeError",
     "evalue": "Optimal parameters not found: Number of calls to function has reached maxfev = 600.",
     "output_type": "error",
     "traceback": [
      "\u001b[1;31m---------------------------------------------------------------------------\u001b[0m",
      "\u001b[1;31mRuntimeError\u001b[0m                              Traceback (most recent call last)",
      "\u001b[1;32m<ipython-input-18-bd2437aebaf8>\u001b[0m in \u001b[0;36m<module>\u001b[1;34m()\u001b[0m\n\u001b[0;32m      1\u001b[0m \u001b[1;31m# Calculate and show fit parameters. Use a starting guess of p1=1 and p2=0.2\u001b[0m\u001b[1;33m\u001b[0m\u001b[1;33m\u001b[0m\u001b[0m\n\u001b[1;32m----> 2\u001b[1;33m \u001b[0mpopt\u001b[0m\u001b[1;33m,\u001b[0m \u001b[0mpcov\u001b[0m \u001b[1;33m=\u001b[0m \u001b[0mcurve_fit\u001b[0m\u001b[1;33m(\u001b[0m\u001b[0mfunc\u001b[0m\u001b[1;33m,\u001b[0m \u001b[0mxdata\u001b[0m\u001b[1;33m,\u001b[0m \u001b[0mydata\u001b[0m\u001b[1;33m,\u001b[0m\u001b[0mp0\u001b[0m\u001b[1;33m=\u001b[0m\u001b[1;33m(\u001b[0m\u001b[1;36m1.0\u001b[0m\u001b[1;33m,\u001b[0m\u001b[1;36m0.2\u001b[0m\u001b[1;33m)\u001b[0m\u001b[1;33m)\u001b[0m\u001b[1;33m\u001b[0m\u001b[0m\n\u001b[0m",
      "\u001b[1;32m/home/topolo/Public/anaconda2/lib/python2.7/site-packages/scipy/optimize/minpack.pyc\u001b[0m in \u001b[0;36mcurve_fit\u001b[1;34m(f, xdata, ydata, p0, sigma, absolute_sigma, check_finite, bounds, method, jac, **kwargs)\u001b[0m\n\u001b[0;32m    678\u001b[0m         \u001b[0mcost\u001b[0m \u001b[1;33m=\u001b[0m \u001b[0mnp\u001b[0m\u001b[1;33m.\u001b[0m\u001b[0msum\u001b[0m\u001b[1;33m(\u001b[0m\u001b[0minfodict\u001b[0m\u001b[1;33m[\u001b[0m\u001b[1;34m'fvec'\u001b[0m\u001b[1;33m]\u001b[0m \u001b[1;33m**\u001b[0m \u001b[1;36m2\u001b[0m\u001b[1;33m)\u001b[0m\u001b[1;33m\u001b[0m\u001b[0m\n\u001b[0;32m    679\u001b[0m         \u001b[1;32mif\u001b[0m \u001b[0mier\u001b[0m \u001b[1;32mnot\u001b[0m \u001b[1;32min\u001b[0m \u001b[1;33m[\u001b[0m\u001b[1;36m1\u001b[0m\u001b[1;33m,\u001b[0m \u001b[1;36m2\u001b[0m\u001b[1;33m,\u001b[0m \u001b[1;36m3\u001b[0m\u001b[1;33m,\u001b[0m \u001b[1;36m4\u001b[0m\u001b[1;33m]\u001b[0m\u001b[1;33m:\u001b[0m\u001b[1;33m\u001b[0m\u001b[0m\n\u001b[1;32m--> 680\u001b[1;33m             \u001b[1;32mraise\u001b[0m \u001b[0mRuntimeError\u001b[0m\u001b[1;33m(\u001b[0m\u001b[1;34m\"Optimal parameters not found: \"\u001b[0m \u001b[1;33m+\u001b[0m \u001b[0merrmsg\u001b[0m\u001b[1;33m)\u001b[0m\u001b[1;33m\u001b[0m\u001b[0m\n\u001b[0m\u001b[0;32m    681\u001b[0m     \u001b[1;32melse\u001b[0m\u001b[1;33m:\u001b[0m\u001b[1;33m\u001b[0m\u001b[0m\n\u001b[0;32m    682\u001b[0m         res = least_squares(func, p0, jac=jac, bounds=bounds, method=method,\n",
      "\u001b[1;31mRuntimeError\u001b[0m: Optimal parameters not found: Number of calls to function has reached maxfev = 600."
     ]
    }
   ],
   "source": [
    "# Calculate and show fit parameters. Use a starting guess of p1=1 and p2=0.2\n",
    "popt, pcov = curve_fit(func, xdata, ydata,p0=(1.0,0.2))"
   ]
  },
  {
   "cell_type": "code",
   "execution_count": 23,
   "metadata": {
    "collapsed": false
   },
   "outputs": [
    {
     "data": {
      "text/plain": [
       "<matplotlib.collections.PathCollection at 0x7fbbe7355310>"
      ]
     },
     "execution_count": 23,
     "metadata": {},
     "output_type": "execute_result"
    },
    {
     "data": {
      "image/png": "[encoded data removed]",
      "text/plain": [
       "<matplotlib.figure.Figure at 0x7fbbe7532150>"
      ]
     },
     "metadata": {},
     "output_type": "display_data"
    }
   ],
   "source": [
    "plt.scatter(xdata, ydata)"
   ]
  },
  {
   "cell_type": "markdown",
   "metadata": {},
   "source": [
    "Taking a look at the plot of drag vs. $v$, the form $p_1 \\cos{(p_2 x)} + p_2 \\sin{(p_1 x) }$ isn't appropriate since the coefficients in front of the sinusoidal terms $\\cos$, $\\sin$ are dependent upon the \"wavenumbers\" $p_2,p_1$.   \n",
    "\n",
    "Instead, consider a gamma function distribution   \n",
    "\n",
    "$$  \n",
    "f(x,k,\\theta) = A_0 x^k \\exp{ (-\\frac{x}{\\theta }) }  \n",
    "$$ \n",
    "with $x,k,\\theta \\in \\mathbb{R}$, and $A_0 \\in \\mathbb{R}$ constant.  "
   ]
  },
  {
   "cell_type": "code",
   "execution_count": 110,
   "metadata": {
    "collapsed": false
   },
   "outputs": [],
   "source": [
    "#def gamma_func_fit(x, k, theta, x_0, A_0 ):\n",
    "#    return A_0 * x**2 * np.exp( -((x-x_0)**2/theta) )\n",
    "#def gamma_func_fit(x, k, theta, x_0, A_0 ):\n",
    "#    return A_0 * x**k * np.exp( -((x-x_0)**2/theta) )\n",
    "def gamma_func_fit(x, k, theta, x_0  ):\n",
    "    return x**k * np.exp( -((x-x_0)/theta) )\n"
   ]
  },
  {
   "cell_type": "code",
   "execution_count": 111,
   "metadata": {
    "collapsed": false
   },
   "outputs": [],
   "source": [
    "# Calculate and show fit parameters. Use a starting guess of p1=1 and p2=0.2\n",
    "popt, pcov = curve_fit(gamma_func_fit, xdata, ydata , maxfev=10000000)"
   ]
  },
  {
   "cell_type": "code",
   "execution_count": 112,
   "metadata": {
    "collapsed": false
   },
   "outputs": [
    {
     "data": {
      "text/plain": [
       "array([  4.09027753e-01,   6.29072284e+01,   5.13311913e+02])"
      ]
     },
     "execution_count": 112,
     "metadata": {},
     "output_type": "execute_result"
    }
   ],
   "source": [
    "popt"
   ]
  },
  {
   "cell_type": "code",
   "execution_count": 113,
   "metadata": {
    "collapsed": false
   },
   "outputs": [
    {
     "data": {
      "text/plain": [
       "array([[  8.11265790e-03,  -1.01711747e+00,  -9.31387568e+00],\n",
       "       [ -1.01711747e+00,   2.07623166e+02,   1.79218413e+03],\n",
       "       [ -9.31387568e+00,   1.79218413e+03,   1.55730444e+04]])"
      ]
     },
     "execution_count": 113,
     "metadata": {},
     "output_type": "execute_result"
    }
   ],
   "source": [
    "pcov"
   ]
  },
  {
   "cell_type": "code",
   "execution_count": 114,
   "metadata": {
    "collapsed": false
   },
   "outputs": [
    {
     "name": "stderr",
     "output_type": "stream",
     "text": [
      "/home/topolo/Public/anaconda2/lib/python2.7/site-packages/ipykernel/__main__.py:6: RuntimeWarning: invalid value encountered in power\n"
     ]
    },
    {
     "data": {
      "image/png": "[encoded data removed]",
      "text/plain": [
       "<matplotlib.figure.Figure at 0x7fbbec07a050>"
      ]
     },
     "metadata": {},
     "output_type": "display_data"
    }
   ],
   "source": [
    "# Plot fitted curve along with data\n",
    "curvex=np.linspace(-1,150,200)\n",
    "#curvey=gamma_func_fit(curvex,popt[0],popt[1],popt[2]  )\n",
    "curvey=gamma_func_fit(curvex, *popt  )\n",
    "\n",
    "plt.plot(xdata,ydata,'*')\n",
    "plt.plot(curvex,curvey,'r')\n",
    "plt.xlabel('xdata')\n",
    "plt.ylabel('ydata')\n",
    "\n",
    "plt.show()"
   ]
  },
  {
   "cell_type": "markdown",
   "metadata": {},
   "source": [
    "Function form:    \n",
    "\n",
    "$$  \n",
    "f(x; k, \\beta, \\theta) = (\\frac{x}{ \\theta } )^k \\exp{ \\left( - \\left( \\frac{x}{\\theta} \\right)^{\\beta} \\right) }   \n",
    "$$"
   ]
  },
  {
   "cell_type": "code",
   "execution_count": 160,
   "metadata": {
    "collapsed": false
   },
   "outputs": [],
   "source": [
    "def gamma_func_fit(x, k, theta, beta  ):\n",
    "    return (x/theta)**k * np.exp( - (x/theta)**beta )"
   ]
  },
  {
   "cell_type": "code",
   "execution_count": 161,
   "metadata": {
    "collapsed": false
   },
   "outputs": [
    {
     "name": "stdout",
     "output_type": "stream",
     "text": [
      "[  1.36856811e+00   4.53689201e-05   1.67111828e-01]\n",
      "[[  1.42227281e-02   6.40345599e-06   1.72314033e-03]\n",
      " [  6.40345599e-06   2.90382561e-09   7.76176802e-07]\n",
      " [  1.72314033e-03   7.76176802e-07   2.08803685e-04]]\n"
     ]
    },
    {
     "name": "stderr",
     "output_type": "stream",
     "text": [
      "/home/topolo/Public/anaconda2/lib/python2.7/site-packages/ipykernel/__main__.py:2: RuntimeWarning: invalid value encountered in power\n",
      "  from ipykernel import kernelapp as app\n"
     ]
    }
   ],
   "source": [
    "# Calculate and show fit parameters. Use a starting guess of p1=1 and p2=0.2\n",
    "popt, pcov = curve_fit(gamma_func_fit, xdata[3:], ydata[3:] , maxfev=100000)\n",
    "print(popt)\n",
    "print(pcov)"
   ]
  },
  {
   "cell_type": "code",
   "execution_count": 162,
   "metadata": {
    "collapsed": false
   },
   "outputs": [
    {
     "name": "stderr",
     "output_type": "stream",
     "text": [
      "/home/topolo/Public/anaconda2/lib/python2.7/site-packages/ipykernel/__main__.py:2: RuntimeWarning: invalid value encountered in power\n",
      "  from ipykernel import kernelapp as app\n"
     ]
    },
    {
     "data": {
      "image/png": "[encoded data removed]",
      "text/plain": [
       "<matplotlib.figure.Figure at 0x7fbbe694d350>"
      ]
     },
     "metadata": {},
     "output_type": "display_data"
    }
   ],
   "source": [
    "# Plot fitted curve along with data\n",
    "curvex=np.linspace(-1,150,200)\n",
    "curvey=gamma_func_fit(curvex, *popt  )\n",
    "\n",
    "plt.plot(xdata,ydata,'*')\n",
    "plt.plot(curvex,curvey,'r')\n",
    "plt.xlabel('xdata')\n",
    "plt.ylabel('ydata')\n",
    "\n",
    "plt.show()"
   ]
  },
  {
   "cell_type": "markdown",
   "metadata": {},
   "source": [
    "So for "
   ]
  },
  {
   "cell_type": "markdown",
   "metadata": {},
   "source": [
    "## drag vs. $v$    "
   ]
  },
  {
   "cell_type": "markdown",
   "metadata": {},
   "source": [
    "#### $h=0.002 m$"
   ]
  },
  {
   "cell_type": "code",
   "execution_count": 170,
   "metadata": {
    "collapsed": true
   },
   "outputs": [],
   "source": [
    "h = 0.002\t# use for data.csv\n",
    "\n",
    "ydata = np.array(df.drag[df.h == h])\n",
    "xdata = np.array(df.v[df.h == h])"
   ]
  },
  {
   "cell_type": "code",
   "execution_count": 179,
   "metadata": {
    "collapsed": true
   },
   "outputs": [],
   "source": [
    "def gamma_func_fit(x, k, theta, beta   ):\n",
    "    return (x/theta)**k  *  np.exp( - (x/theta)**beta )"
   ]
  },
  {
   "cell_type": "code",
   "execution_count": 180,
   "metadata": {
    "collapsed": false
   },
   "outputs": [
    {
     "name": "stdout",
     "output_type": "stream",
     "text": [
      "[  1.36856811e+00   4.53689201e-05   1.67111828e-01]\n",
      "[[  1.42227281e-02   6.40345599e-06   1.72314033e-03]\n",
      " [  6.40345599e-06   2.90382561e-09   7.76176802e-07]\n",
      " [  1.72314033e-03   7.76176802e-07   2.08803685e-04]]\n"
     ]
    },
    {
     "name": "stderr",
     "output_type": "stream",
     "text": [
      "/home/topolo/Public/anaconda2/lib/python2.7/site-packages/ipykernel/__main__.py:2: RuntimeWarning: invalid value encountered in power\n",
      "  from ipykernel import kernelapp as app\n"
     ]
    }
   ],
   "source": [
    "# Calculate and show fit parameters. \n",
    "popt, pcov = curve_fit(gamma_func_fit, xdata[3:], ydata[3:] , maxfev=100000)\n",
    "print(popt)\n",
    "print(pcov)"
   ]
  },
  {
   "cell_type": "code",
   "execution_count": 181,
   "metadata": {
    "collapsed": false
   },
   "outputs": [
    {
     "name": "stderr",
     "output_type": "stream",
     "text": [
      "/home/topolo/Public/anaconda2/lib/python2.7/site-packages/ipykernel/__main__.py:2: RuntimeWarning: invalid value encountered in power\n",
      "  from ipykernel import kernelapp as app\n"
     ]
    },
    {
     "data": {
      "image/png": "[encoded data removed]",
      "text/plain": [
       "<matplotlib.figure.Figure at 0x7fbbe6466b10>"
      ]
     },
     "metadata": {},
     "output_type": "display_data"
    }
   ],
   "source": [
    "# Plot fitted curve along with data\n",
    "curvex=np.linspace(-5,150,200)\n",
    "curvey=gamma_func_fit(curvex, *popt  )\n",
    "plt.plot(xdata,ydata,'*')\n",
    "plt.plot(curvex,curvey,'r')\n",
    "\n",
    "plt.xlabel('xdata')\n",
    "plt.ylabel('ydata')\n",
    "\n",
    "plt.show()"
   ]
  },
  {
   "cell_type": "markdown",
   "metadata": {},
   "source": [
    "#### $h=0.016 m$"
   ]
  },
  {
   "cell_type": "code",
   "execution_count": 187,
   "metadata": {
    "collapsed": false
   },
   "outputs": [
    {
     "name": "stdout",
     "output_type": "stream",
     "text": [
      "14\n",
      "14\n"
     ]
    }
   ],
   "source": [
    "h = .016 # data.csv, in meters (m) (EY : ???)\n",
    "\n",
    "ydata = np.array(df.drag[df.h == h])\n",
    "xdata = np.array(df.v[df.h == h])\n",
    "print (len(ydata)); print(len(xdata))"
   ]
  },
  {
   "cell_type": "code",
   "execution_count": 190,
   "metadata": {
    "collapsed": false
   },
   "outputs": [
    {
     "name": "stdout",
     "output_type": "stream",
     "text": [
      "[  1.21097878e+00   3.37577408e-04   1.81237209e-01]\n",
      "[[  1.44972521e-02   4.70596704e-05   2.15129431e-03]\n",
      " [  4.70596704e-05   1.54348274e-07   6.98982924e-06]\n",
      " [  2.15129431e-03   6.98982924e-06   3.19342255e-04]]\n"
     ]
    },
    {
     "name": "stderr",
     "output_type": "stream",
     "text": [
      "/home/topolo/Public/anaconda2/lib/python2.7/site-packages/ipykernel/__main__.py:2: RuntimeWarning: invalid value encountered in power\n",
      "  from ipykernel import kernelapp as app\n"
     ]
    }
   ],
   "source": [
    "# Calculate and show fit parameters. \n",
    "popt, pcov = curve_fit(gamma_func_fit, xdata[3:], ydata[3:] , maxfev=100000)\n",
    "print(popt)\n",
    "print(pcov)"
   ]
  },
  {
   "cell_type": "code",
   "execution_count": 191,
   "metadata": {
    "collapsed": false
   },
   "outputs": [
    {
     "name": "stderr",
     "output_type": "stream",
     "text": [
      "/home/topolo/Public/anaconda2/lib/python2.7/site-packages/ipykernel/__main__.py:2: RuntimeWarning: invalid value encountered in power\n",
      "  from ipykernel import kernelapp as app\n"
     ]
    },
    {
     "data": {
      "image/png": "[encoded data removed]",
      "text/plain": [
       "<matplotlib.figure.Figure at 0x7fbbe64354d0>"
      ]
     },
     "metadata": {},
     "output_type": "display_data"
    }
   ],
   "source": [
    "# Plot fitted curve along with data\n",
    "curvex=np.linspace(-5,150,200)\n",
    "curvey=gamma_func_fit(curvex, *popt  )\n",
    "plt.plot(xdata,ydata,'*')\n",
    "plt.plot(curvex,curvey,'r')\n",
    "\n",
    "plt.xlabel('xdata')\n",
    "plt.ylabel('ydata')\n",
    "\n",
    "plt.show()"
   ]
  },
  {
   "cell_type": "markdown",
   "metadata": {},
   "source": [
    "#### $h=0.032 m$"
   ]
  },
  {
   "cell_type": "code",
   "execution_count": 192,
   "metadata": {
    "collapsed": false
   },
   "outputs": [
    {
     "name": "stdout",
     "output_type": "stream",
     "text": [
      "14\n",
      "14\n"
     ]
    }
   ],
   "source": [
    "h = .032 # data.csv, in meters (m) (EY : ???)\n",
    "\n",
    "ydata = np.array(df.drag[df.h == h])\n",
    "xdata = np.array(df.v[df.h == h])\n",
    "print (len(ydata)); print(len(xdata))"
   ]
  },
  {
   "cell_type": "code",
   "execution_count": 202,
   "metadata": {
    "collapsed": false
   },
   "outputs": [
    {
     "name": "stdout",
     "output_type": "stream",
     "text": [
      "[ 1.20186783  0.01646837  0.24127158]\n",
      "[[ 0.01882448  0.00182851  0.00367822]\n",
      " [ 0.00182851  0.00018639  0.00035906]\n",
      " [ 0.00367822  0.00035906  0.00072042]]\n"
     ]
    },
    {
     "name": "stderr",
     "output_type": "stream",
     "text": [
      "/home/topolo/Public/anaconda2/lib/python2.7/site-packages/ipykernel/__main__.py:2: RuntimeWarning: overflow encountered in power\n",
      "  from ipykernel import kernelapp as app\n",
      "/home/topolo/Public/anaconda2/lib/python2.7/site-packages/ipykernel/__main__.py:2: RuntimeWarning: invalid value encountered in multiply\n",
      "  from ipykernel import kernelapp as app\n",
      "/home/topolo/Public/anaconda2/lib/python2.7/site-packages/ipykernel/__main__.py:2: RuntimeWarning: invalid value encountered in power\n",
      "  from ipykernel import kernelapp as app\n"
     ]
    }
   ],
   "source": [
    "# Calculate and show fit parameters. \n",
    "popt, pcov = curve_fit(gamma_func_fit, xdata[2:], ydata[2:] , maxfev=100000)\n",
    "print(popt)\n",
    "print(pcov)"
   ]
  },
  {
   "cell_type": "code",
   "execution_count": 203,
   "metadata": {
    "collapsed": false
   },
   "outputs": [
    {
     "name": "stderr",
     "output_type": "stream",
     "text": [
      "/home/topolo/Public/anaconda2/lib/python2.7/site-packages/ipykernel/__main__.py:2: RuntimeWarning: invalid value encountered in power\n",
      "  from ipykernel import kernelapp as app\n"
     ]
    },
    {
     "data": {
      "image/png": "[encoded data removed]",
      "text/plain": [
       "<matplotlib.figure.Figure at 0x7fbbe65e0c90>"
      ]
     },
     "metadata": {},
     "output_type": "display_data"
    }
   ],
   "source": [
    "# Plot fitted curve along with data\n",
    "curvex=np.linspace(-5,150,200)\n",
    "curvey=gamma_func_fit(curvex, *popt  )\n",
    "plt.plot(xdata,ydata,'*')\n",
    "plt.plot(curvex,curvey,'r')\n",
    "\n",
    "plt.xlabel('xdata')\n",
    "plt.ylabel('ydata')\n",
    "\n",
    "plt.show()"
   ]
  },
  {
   "cell_type": "markdown",
   "metadata": {},
   "source": [
    "### $h=0.014 m$"
   ]
  },
  {
   "cell_type": "code",
   "execution_count": 326,
   "metadata": {
    "collapsed": false
   },
   "outputs": [
    {
     "name": "stdout",
     "output_type": "stream",
     "text": [
      "0\n",
      "0\n"
     ]
    }
   ],
   "source": [
    "h = .014 # data.csv, in meters (m) (EY : ???)\n",
    "\n",
    "ydata = np.array(df.drag[df.h == h])\n",
    "xdata = np.array(df.v[df.h == h])\n",
    "print (len(ydata)); print(len(xdata))"
   ]
  },
  {
   "cell_type": "markdown",
   "metadata": {},
   "source": [
    "So there's no data for $h= 0.014 m$.  Same with $h=0.018 m$"
   ]
  },
  {
   "cell_type": "code",
   "execution_count": 327,
   "metadata": {
    "collapsed": false
   },
   "outputs": [
    {
     "name": "stdout",
     "output_type": "stream",
     "text": [
      "0\n",
      "0\n"
     ]
    }
   ],
   "source": [
    "h = .018 # data.csv, in meters (m) (EY : ???)\n",
    "\n",
    "ydata = np.array(df.drag[df.h == h])\n",
    "xdata = np.array(df.v[df.h == h])\n",
    "print (len(ydata)); print(len(xdata))"
   ]
  },
  {
   "cell_type": "markdown",
   "metadata": {},
   "source": [
    "### lift vs. $v$  "
   ]
  },
  {
   "cell_type": "markdown",
   "metadata": {},
   "source": [
    "$$    \n",
    "y=y(x) = A+ B\\log{ (x/C) }   \n",
    "$$"
   ]
  },
  {
   "cell_type": "code",
   "execution_count": 219,
   "metadata": {
    "collapsed": true
   },
   "outputs": [],
   "source": [
    "def log_func_fit(x, A, B, C  ):\n",
    "    return A+B*np.log( x + C)"
   ]
  },
  {
   "cell_type": "markdown",
   "metadata": {},
   "source": [
    "#### $h=0.002 m  $"
   ]
  },
  {
   "cell_type": "code",
   "execution_count": 220,
   "metadata": {
    "collapsed": false
   },
   "outputs": [
    {
     "name": "stdout",
     "output_type": "stream",
     "text": [
      "14\n",
      "14\n"
     ]
    }
   ],
   "source": [
    "h = .002 # data.csv, in meters (m) (EY : ???)\n",
    "\n",
    "ydata = np.array(df.lift[df.h == h])\n",
    "xdata = np.array(df.v[df.h == h])\n",
    "print (len(ydata)); print(len(xdata))"
   ]
  },
  {
   "cell_type": "code",
   "execution_count": 223,
   "metadata": {
    "collapsed": false
   },
   "outputs": [
    {
     "name": "stdout",
     "output_type": "stream",
     "text": [
      "[ -4.97893534e+03   3.40295757e+03  -1.24862349e+00]\n",
      "[[  1.69869627e+06  -4.17670165e+05  -1.35296000e+03]\n",
      " [ -4.17670165e+05   1.07875349e+05   3.18224518e+02]\n",
      " [ -1.35296000e+03   3.18224518e+02   1.30112239e+00]]\n"
     ]
    },
    {
     "name": "stderr",
     "output_type": "stream",
     "text": [
      "/home/topolo/Public/anaconda2/lib/python2.7/site-packages/ipykernel/__main__.py:2: RuntimeWarning: invalid value encountered in log\n",
      "  from ipykernel import kernelapp as app\n"
     ]
    }
   ],
   "source": [
    "# Calculate and show fit parameters. \n",
    "popt, pcov = curve_fit(log_func_fit, xdata[3:], ydata[3:] , maxfev=100000)\n",
    "print(popt)\n",
    "print(pcov)"
   ]
  },
  {
   "cell_type": "code",
   "execution_count": 230,
   "metadata": {
    "collapsed": false
   },
   "outputs": [
    {
     "data": {
      "image/png": "[encoded data removed]",
      "text/plain": [
       "<matplotlib.figure.Figure at 0x7fbbe6459b90>"
      ]
     },
     "metadata": {},
     "output_type": "display_data"
    }
   ],
   "source": [
    "# Plot fitted curve along with data\n",
    "curvex=np.linspace(3,150,200)\n",
    "curvey=log_func_fit(curvex, *popt  )\n",
    "plt.plot(xdata,ydata,'*')\n",
    "plt.plot(curvex,curvey,'r')\n",
    "\n",
    "plt.xlabel('$v$')\n",
    "plt.ylabel('lift')\n",
    "plt.title('$h=0.002 m')\n",
    "plt.show()"
   ]
  },
  {
   "cell_type": "markdown",
   "metadata": {},
   "source": [
    "#### $h = 0.008 m $  "
   ]
  },
  {
   "cell_type": "code",
   "execution_count": 231,
   "metadata": {
    "collapsed": false
   },
   "outputs": [
    {
     "name": "stdout",
     "output_type": "stream",
     "text": [
      "14\n",
      "14\n"
     ]
    }
   ],
   "source": [
    "h = .008 # data.csv, in meters (m) (EY : ???)\n",
    "\n",
    "ydata = np.array(df.lift[df.h == h])\n",
    "xdata = np.array(df.v[df.h == h])\n",
    "print (len(ydata)); print(len(xdata))"
   ]
  },
  {
   "cell_type": "code",
   "execution_count": 232,
   "metadata": {
    "collapsed": false
   },
   "outputs": [
    {
     "name": "stdout",
     "output_type": "stream",
     "text": [
      "[ -1.32771476e+03   8.91665739e+02  -1.30426033e+00]\n",
      "[[  1.27207084e+05  -3.13498349e+04  -3.81139913e+02]\n",
      " [ -3.13498349e+04   8.12188241e+03   8.98390417e+01]\n",
      " [ -3.81139913e+02   8.98390417e+01   1.38267961e+00]]\n"
     ]
    },
    {
     "name": "stderr",
     "output_type": "stream",
     "text": [
      "/home/topolo/Public/anaconda2/lib/python2.7/site-packages/ipykernel/__main__.py:2: RuntimeWarning: invalid value encountered in log\n",
      "  from ipykernel import kernelapp as app\n"
     ]
    }
   ],
   "source": [
    "# Calculate and show fit parameters. \n",
    "popt, pcov = curve_fit(log_func_fit, xdata[3:], ydata[3:] , maxfev=100000)\n",
    "print(popt)\n",
    "print(pcov)"
   ]
  },
  {
   "cell_type": "code",
   "execution_count": 234,
   "metadata": {
    "collapsed": false
   },
   "outputs": [
    {
     "data": {
      "image/png": "[encoded data removed]",
      "text/plain": [
       "<matplotlib.figure.Figure at 0x7fbbe64df550>"
      ]
     },
     "metadata": {},
     "output_type": "display_data"
    }
   ],
   "source": [
    "# Plot fitted curve along with data\n",
    "curvex=np.linspace(3,150,200)\n",
    "curvey=log_func_fit(curvex, *popt  )\n",
    "plt.plot(xdata,ydata,'*')\n",
    "plt.plot(curvex,curvey,'r')\n",
    "\n",
    "plt.xlabel('$v$')\n",
    "plt.ylabel('lift')\n",
    "plt.title('$h=0.008$ m')\n",
    "\n",
    "\n",
    "plt.show()"
   ]
  },
  {
   "cell_type": "markdown",
   "metadata": {},
   "source": [
    "### `Force2.Force_y` vs. $v$"
   ]
  },
  {
   "cell_type": "markdown",
   "metadata": {},
   "source": [
    "Fitting form, *exponential function*:     \n",
    "\n",
    "$$    \n",
    "f(x; \\lambda,k) =  A \\exp{ ( - C (x -B)  )} + D         \n",
    "$$  "
   ]
  },
  {
   "cell_type": "code",
   "execution_count": 289,
   "metadata": {
    "collapsed": true
   },
   "outputs": [],
   "source": [
    "def exp_fit(x, A,B,C,D   ):\n",
    "    return A * np.exp(- C * (x-B)) + D "
   ]
  },
  {
   "cell_type": "markdown",
   "metadata": {},
   "source": [
    "#### $h=0.002 \\, m$"
   ]
  },
  {
   "cell_type": "code",
   "execution_count": 264,
   "metadata": {
    "collapsed": false
   },
   "outputs": [
    {
     "data": {
      "text/plain": [
       "Index([u'Unnamed: 0', u'drag', u'lift', u'Force2.Force_y', u'h', u'v'], dtype='object')"
      ]
     },
     "execution_count": 264,
     "metadata": {},
     "output_type": "execute_result"
    }
   ],
   "source": [
    "df.columns"
   ]
  },
  {
   "cell_type": "code",
   "execution_count": 272,
   "metadata": {
    "collapsed": false
   },
   "outputs": [
    {
     "name": "stdout",
     "output_type": "stream",
     "text": [
      "14\n",
      "14\n"
     ]
    }
   ],
   "source": [
    "h = .002 # data.csv, in meters (m) (EY : ???)\n",
    "\n",
    "ydata = np.array( df.ix[df.h==h][\"Force2.Force_y\"] )\n",
    "xdata = np.array(df.v[df.h == h])\n",
    "print (len(ydata)); print(len(xdata))"
   ]
  },
  {
   "cell_type": "code",
   "execution_count": 323,
   "metadata": {
    "collapsed": false
   },
   "outputs": [
    {
     "name": "stdout",
     "output_type": "stream",
     "text": [
      "[  1.48989159e+02   6.34241656e+01   6.31899117e-02  -1.03241932e+04]\n",
      "[[  3.78338585e+17  -4.00782718e+16  -1.08340854e+06  -4.13065726e+10]\n",
      " [ -4.00782718e+16   4.24558301e+15   1.14767716e+05   4.37569516e+09]\n",
      " [ -1.08340915e+06   1.14767780e+05   2.49656128e-04   4.54655561e+00]\n",
      " [ -4.13065825e+10   4.37569621e+09   4.54655557e+00   2.10248730e+05]]\n"
     ]
    }
   ],
   "source": [
    "# Calculate and show fit parameters. \n",
    "popt, pcov = curve_fit( exp_fit, xdata[3:], ydata[3:] , p0=[100,100,1,1],maxfev=1000000)\n",
    "print(popt)\n",
    "print(pcov)"
   ]
  },
  {
   "cell_type": "code",
   "execution_count": 324,
   "metadata": {
    "collapsed": false
   },
   "outputs": [
    {
     "data": {
      "image/png": "[encoded data removed]",
      "text/plain": [
       "<matplotlib.figure.Figure at 0x7fbbe6951610>"
      ]
     },
     "metadata": {},
     "output_type": "display_data"
    }
   ],
   "source": [
    "# Plot fitted curve along with data\n",
    "curvex=np.linspace(3,150,200)\n",
    "curvey= exp_fit(curvex, *popt  )\n",
    "plt.plot(xdata,ydata,'*')\n",
    "plt.plot(curvex,curvey,'r')\n",
    "\n",
    "plt.xlabel('$v$')\n",
    "plt.ylabel('Force2.Force_y')\n",
    "plt.title('$h=0.002$ m')\n",
    "\n",
    "\n",
    "plt.show()"
   ]
  },
  {
   "cell_type": "markdown",
   "metadata": {},
   "source": [
    "Some remarks:    \n",
    "\n",
    "* Trying different initial conditions for `curve_fit` helps to find the parameters; wrong choice of initial conditions lead to `RunTime Errors` since number of iterations run out before residuals shrink enough  \n",
    "* I determined the fitting forms by the following manner:  \n",
    "    - I use only combinations and factors of *transcendental, polynomial, exponential, and logarithmic* functions, because physical systems should only exhibit such functions  \n",
    "    - Take a look *manually* at what the desired fit shape would be and search for what combination of transcendentals, polynomials, exponentials, and logarithms, would give us such as shape  \n",
    "    - modify accordingly  "
   ]
  },
  {
   "cell_type": "code",
   "execution_count": 329,
   "metadata": {
    "collapsed": true
   },
   "outputs": [],
   "source": [
    "## [`example_ski_data.csv`](https://github.com/capsulecorplab/CurveFit/blob/master/example_ski_data.csv)  "
   ]
  },
  {
   "cell_type": "code",
   "execution_count": 330,
   "metadata": {
    "collapsed": true
   },
   "outputs": [],
   "source": [
    "# Read csv and save to a pandas data frame\n",
    "df = pd.read_csv(SUBDIR+'example_ski_data.csv')"
   ]
  },
  {
   "cell_type": "code",
   "execution_count": 332,
   "metadata": {
    "collapsed": false
   },
   "outputs": [
    {
     "data": {
      "text/html": [
       "<div>\n",
       "<table border=\"1\" class=\"dataframe\">\n",
       "  <thead>\n",
       "    <tr style=\"text-align: right;\">\n",
       "      <th></th>\n",
       "      <th>v</th>\n",
       "      <th>h</th>\n",
       "      <th>drag</th>\n",
       "      <th>lift</th>\n",
       "    </tr>\n",
       "  </thead>\n",
       "  <tbody>\n",
       "    <tr>\n",
       "      <th>count</th>\n",
       "      <td>15.000000</td>\n",
       "      <td>15.000000</td>\n",
       "      <td>15.000000</td>\n",
       "      <td>15.000000</td>\n",
       "    </tr>\n",
       "    <tr>\n",
       "      <th>mean</th>\n",
       "      <td>102.666667</td>\n",
       "      <td>8.533333</td>\n",
       "      <td>232.933333</td>\n",
       "      <td>1152.866667</td>\n",
       "    </tr>\n",
       "    <tr>\n",
       "      <th>std</th>\n",
       "      <td>107.667920</td>\n",
       "      <td>12.052662</td>\n",
       "      <td>137.027873</td>\n",
       "      <td>387.425360</td>\n",
       "    </tr>\n",
       "    <tr>\n",
       "      <th>min</th>\n",
       "      <td>10.000000</td>\n",
       "      <td>2.000000</td>\n",
       "      <td>77.000000</td>\n",
       "      <td>462.000000</td>\n",
       "    </tr>\n",
       "    <tr>\n",
       "      <th>25%</th>\n",
       "      <td>30.000000</td>\n",
       "      <td>3.000000</td>\n",
       "      <td>151.000000</td>\n",
       "      <td>852.500000</td>\n",
       "    </tr>\n",
       "    <tr>\n",
       "      <th>50%</th>\n",
       "      <td>50.000000</td>\n",
       "      <td>5.000000</td>\n",
       "      <td>196.000000</td>\n",
       "      <td>1166.000000</td>\n",
       "    </tr>\n",
       "    <tr>\n",
       "      <th>75%</th>\n",
       "      <td>100.000000</td>\n",
       "      <td>8.000000</td>\n",
       "      <td>278.000000</td>\n",
       "      <td>1465.000000</td>\n",
       "    </tr>\n",
       "    <tr>\n",
       "      <th>max</th>\n",
       "      <td>300.000000</td>\n",
       "      <td>50.000000</td>\n",
       "      <td>501.000000</td>\n",
       "      <td>1645.000000</td>\n",
       "    </tr>\n",
       "  </tbody>\n",
       "</table>\n",
       "</div>"
      ],
      "text/plain": [
       "                v          h        drag         lift\n",
       "count   15.000000  15.000000   15.000000    15.000000\n",
       "mean   102.666667   8.533333  232.933333  1152.866667\n",
       "std    107.667920  12.052662  137.027873   387.425360\n",
       "min     10.000000   2.000000   77.000000   462.000000\n",
       "25%     30.000000   3.000000  151.000000   852.500000\n",
       "50%     50.000000   5.000000  196.000000  1166.000000\n",
       "75%    100.000000   8.000000  278.000000  1465.000000\n",
       "max    300.000000  50.000000  501.000000  1645.000000"
      ]
     },
     "execution_count": 332,
     "metadata": {},
     "output_type": "execute_result"
    }
   ],
   "source": [
    "df.describe()"
   ]
  },
  {
   "cell_type": "markdown",
   "metadata": {},
   "source": [
    "There may not be enough data points to make any sense.  The functional relationship is not clear.  \n",
    "\n",
    "*But* the desired outputs are **lift** and **drag**.  "
   ]
  },
  {
   "cell_type": "markdown",
   "metadata": {},
   "source": [
    "## On `Data Table 1 A57.csv` and `XY Plot 1 A57.csv`     "
   ]
  },
  {
   "cell_type": "code",
   "execution_count": 338,
   "metadata": {
    "collapsed": true
   },
   "outputs": [],
   "source": [
    "DF1_A57 = pd.read_csv( SUBDIR + \"Data Table 1 A57.csv\" )\n",
    "XY1_A57 = pd.read_csv( SUBDIR + \"XY Plot 1 A57.csv\" )"
   ]
  },
  {
   "cell_type": "code",
   "execution_count": 340,
   "metadata": {
    "collapsed": false
   },
   "outputs": [
    {
     "name": "stdout",
     "output_type": "stream",
     "text": [
      "   Time [ms]  Force1.Force_x [newton]  Force1.Force_y [newton]  \\\n",
      "0          0               -10.946411              3516.257762   \n",
      "1         20                20.788547              3468.349537   \n",
      "2         40                 0.738610              3401.388092   \n",
      "3         60                 5.105571              3396.862314   \n",
      "4         80               -15.205590              3364.087479   \n",
      "\n",
      "   Force1.Force_z [newton]  \n",
      "0               246.526052  \n",
      "1               147.149761  \n",
      "2               115.293730  \n",
      "3                93.400955  \n",
      "4                70.793983  \n",
      "        Time [ms]  Force1.Force_x [newton]  Force1.Force_y [newton]  \\\n",
      "count   26.000000                26.000000                26.000000   \n",
      "mean   250.000000               -22.610773              3348.171358   \n",
      "std    152.970585                17.583832                50.770583   \n",
      "min      0.000000               -53.791776              3295.018801   \n",
      "25%    125.000000               -34.899801              3320.086694   \n",
      "50%    250.000000               -22.572334              3331.467251   \n",
      "75%    375.000000               -12.748053              3358.156910   \n",
      "max    500.000000                20.788547              3516.257762   \n",
      "\n",
      "       Force1.Force_z [newton]  \n",
      "count                26.000000  \n",
      "mean                 32.109945  \n",
      "std                  60.646532  \n",
      "min                 -24.391597  \n",
      "25%                  -1.276589  \n",
      "50%                  10.034028  \n",
      "75%                  40.602356  \n",
      "max                 246.526052  \n",
      "   Time [ms]  Force1.Force_y [kNewton]  Force1.Force_z [kNewton]  \\\n",
      "0          0                  3.516258                  0.246526   \n",
      "1         20                  3.468350                  0.147150   \n",
      "2         40                  3.401388                  0.115294   \n",
      "3         60                  3.396862                  0.093401   \n",
      "4         80                  3.364087                  0.070794   \n",
      "\n",
      "   Force1.Force_x [kNewton]  \n",
      "0                 -0.010946  \n",
      "1                  0.020789  \n",
      "2                  0.000739  \n",
      "3                  0.005106  \n",
      "4                 -0.015206  \n"
     ]
    },
    {
     "data": {
      "text/html": [
       "<div>\n",
       "<table border=\"1\" class=\"dataframe\">\n",
       "  <thead>\n",
       "    <tr style=\"text-align: right;\">\n",
       "      <th></th>\n",
       "      <th>Time [ms]</th>\n",
       "      <th>Force1.Force_y [kNewton]</th>\n",
       "      <th>Force1.Force_z [kNewton]</th>\n",
       "      <th>Force1.Force_x [kNewton]</th>\n",
       "    </tr>\n",
       "  </thead>\n",
       "  <tbody>\n",
       "    <tr>\n",
       "      <th>count</th>\n",
       "      <td>26.000000</td>\n",
       "      <td>26.000000</td>\n",
       "      <td>26.000000</td>\n",
       "      <td>26.000000</td>\n",
       "    </tr>\n",
       "    <tr>\n",
       "      <th>mean</th>\n",
       "      <td>250.000000</td>\n",
       "      <td>3.348171</td>\n",
       "      <td>0.032110</td>\n",
       "      <td>-0.022611</td>\n",
       "    </tr>\n",
       "    <tr>\n",
       "      <th>std</th>\n",
       "      <td>152.970585</td>\n",
       "      <td>0.050771</td>\n",
       "      <td>0.060647</td>\n",
       "      <td>0.017584</td>\n",
       "    </tr>\n",
       "    <tr>\n",
       "      <th>min</th>\n",
       "      <td>0.000000</td>\n",
       "      <td>3.295019</td>\n",
       "      <td>-0.024392</td>\n",
       "      <td>-0.053792</td>\n",
       "    </tr>\n",
       "    <tr>\n",
       "      <th>25%</th>\n",
       "      <td>125.000000</td>\n",
       "      <td>3.320087</td>\n",
       "      <td>-0.001277</td>\n",
       "      <td>-0.034900</td>\n",
       "    </tr>\n",
       "    <tr>\n",
       "      <th>50%</th>\n",
       "      <td>250.000000</td>\n",
       "      <td>3.331467</td>\n",
       "      <td>0.010034</td>\n",
       "      <td>-0.022572</td>\n",
       "    </tr>\n",
       "    <tr>\n",
       "      <th>75%</th>\n",
       "      <td>375.000000</td>\n",
       "      <td>3.358157</td>\n",
       "      <td>0.040602</td>\n",
       "      <td>-0.012748</td>\n",
       "    </tr>\n",
       "    <tr>\n",
       "      <th>max</th>\n",
       "      <td>500.000000</td>\n",
       "      <td>3.516258</td>\n",
       "      <td>0.246526</td>\n",
       "      <td>0.020789</td>\n",
       "    </tr>\n",
       "  </tbody>\n",
       "</table>\n",
       "</div>"
      ],
      "text/plain": [
       "        Time [ms]  Force1.Force_y [kNewton]  Force1.Force_z [kNewton]  \\\n",
       "count   26.000000                 26.000000                 26.000000   \n",
       "mean   250.000000                  3.348171                  0.032110   \n",
       "std    152.970585                  0.050771                  0.060647   \n",
       "min      0.000000                  3.295019                 -0.024392   \n",
       "25%    125.000000                  3.320087                 -0.001277   \n",
       "50%    250.000000                  3.331467                  0.010034   \n",
       "75%    375.000000                  3.358157                  0.040602   \n",
       "max    500.000000                  3.516258                  0.246526   \n",
       "\n",
       "       Force1.Force_x [kNewton]  \n",
       "count                 26.000000  \n",
       "mean                  -0.022611  \n",
       "std                    0.017584  \n",
       "min                   -0.053792  \n",
       "25%                   -0.034900  \n",
       "50%                   -0.022572  \n",
       "75%                   -0.012748  \n",
       "max                    0.020789  "
      ]
     },
     "execution_count": 340,
     "metadata": {},
     "output_type": "execute_result"
    }
   ],
   "source": [
    "print( DF1_A57.head() )\n",
    "print( DF1_A57.describe() )\n",
    "print( XY1_A57.head() )\n",
    "XY1_A57.describe() "
   ]
  },
  {
   "cell_type": "code",
   "execution_count": 342,
   "metadata": {
    "collapsed": false
   },
   "outputs": [
    {
     "data": {
      "text/plain": [
       "<matplotlib.axes._subplots.AxesSubplot at 0x7fbbe646c3d0>"
      ]
     },
     "execution_count": 342,
     "metadata": {},
     "output_type": "execute_result"
    },
    {
     "data": {
      "image/png": "[encoded data removed]",
      "text/plain": [
       "<matplotlib.figure.Figure at 0x7fbbe65ef8d0>"
      ]
     },
     "metadata": {},
     "output_type": "display_data"
    }
   ],
   "source": [
    "DF1_A57.plot(\"Time [ms]\", \"Force1.Force_x [newton]\", kind=\"scatter\", title=\"Data Table 1\")"
   ]
  },
  {
   "cell_type": "code",
   "execution_count": 343,
   "metadata": {
    "collapsed": false
   },
   "outputs": [
    {
     "data": {
      "text/plain": [
       "<matplotlib.axes._subplots.AxesSubplot at 0x7fbbe6216710>"
      ]
     },
     "execution_count": 343,
     "metadata": {},
     "output_type": "execute_result"
    },
    {
     "data": {
      "image/png": "[encoded data removed]",
      "text/plain": [
       "<matplotlib.figure.Figure at 0x7fbbe6230f90>"
      ]
     },
     "metadata": {},
     "output_type": "display_data"
    }
   ],
   "source": [
    "DF1_A57.plot(\"Time [ms]\", \"Force1.Force_y [newton]\", kind=\"scatter\", title=\"Data Table 1\")"
   ]
  },
  {
   "cell_type": "code",
   "execution_count": 344,
   "metadata": {
    "collapsed": false
   },
   "outputs": [
    {
     "data": {
      "text/plain": [
       "<matplotlib.axes._subplots.AxesSubplot at 0x7fbbe6639610>"
      ]
     },
     "execution_count": 344,
     "metadata": {},
     "output_type": "execute_result"
    },
    {
     "data": {
      "image/png": "[encoded data removed]",
      "text/plain": [
       "<matplotlib.figure.Figure at 0x7fbbe655ad10>"
      ]
     },
     "metadata": {},
     "output_type": "display_data"
    }
   ],
   "source": [
    "DF1_A57.plot(\"Time [ms]\", \"Force1.Force_z [newton]\", kind=\"scatter\", title=\"Data Table 1\")"
   ]
  },
  {
   "cell_type": "code",
   "execution_count": 347,
   "metadata": {
    "collapsed": false
   },
   "outputs": [
    {
     "data": {
      "text/plain": [
       "<matplotlib.axes._subplots.AxesSubplot at 0x7fbbe62db890>"
      ]
     },
     "execution_count": 347,
     "metadata": {},
     "output_type": "execute_result"
    },
    {
     "data": {
      "image/png": "[encoded data removed]",
      "text/plain": [
       "<matplotlib.figure.Figure at 0x7fbbe6080810>"
      ]
     },
     "metadata": {},
     "output_type": "display_data"
    }
   ],
   "source": [
    "XY1_A57.plot(\"Time [ms]\", \"Force1.Force_x [kNewton]\", kind=\"scatter\", title=\"XY 1\")"
   ]
  },
  {
   "cell_type": "code",
   "execution_count": 349,
   "metadata": {
    "collapsed": false
   },
   "outputs": [
    {
     "data": {
      "text/plain": [
       "<matplotlib.axes._subplots.AxesSubplot at 0x7fbbe5f85d10>"
      ]
     },
     "execution_count": 349,
     "metadata": {},
     "output_type": "execute_result"
    },
    {
     "data": {
      "image/png": "[encoded data removed]",
      "text/plain": [
       "<matplotlib.figure.Figure at 0x7fbbe5e9e390>"
      ]
     },
     "metadata": {},
     "output_type": "display_data"
    }
   ],
   "source": [
    "XY1_A57.plot(\"Time [ms]\", \"Force1.Force_y [kNewton]\", kind=\"scatter\", title=\"XY 1\")"
   ]
  },
  {
   "cell_type": "code",
   "execution_count": 350,
   "metadata": {
    "collapsed": false
   },
   "outputs": [
    {
     "data": {
      "text/plain": [
       "<matplotlib.axes._subplots.AxesSubplot at 0x7fbbe60f91d0>"
      ]
     },
     "execution_count": 350,
     "metadata": {},
     "output_type": "execute_result"
    },
    {
     "data": {
      "image/png": "[encoded data removed]",
      "text/plain": [
       "<matplotlib.figure.Figure at 0x7fbbe6637050>"
      ]
     },
     "metadata": {},
     "output_type": "display_data"
    }
   ],
   "source": [
    "XY1_A57.plot(\"Time [ms]\", \"Force1.Force_z [kNewton]\", kind=\"scatter\" , title=\"XY 1\")"
   ]
  },
  {
   "cell_type": "markdown",
   "metadata": {},
   "source": [
    "### Fit with decaying exponentials"
   ]
  },
  {
   "cell_type": "code",
   "execution_count": 355,
   "metadata": {
    "collapsed": false
   },
   "outputs": [
    {
     "name": "stdout",
     "output_type": "stream",
     "text": [
      "[  3.55959076e+01   2.47183792e+01   7.56776194e-03  -3.41334118e+01]\n",
      "[[  1.37576287e+16  -5.11812921e+16  -7.73022775e+04   6.54586774e+07]\n",
      " [ -5.11812921e+16   1.90405244e+17   2.87580778e+05  -2.43520298e+08]\n",
      " [ -7.73022763e+04   2.87580775e+05   2.16370710e-05   2.62754319e-02]\n",
      " [  6.54586787e+07  -2.43520303e+08   2.62754319e-02   4.79476035e+01]]\n"
     ]
    }
   ],
   "source": [
    "xdata = np.array( DF1_A57[\"Time [ms]\"] )\n",
    "ydata = np.array( DF1_A57[\"Force1.Force_x [newton]\"] )\n",
    "\n",
    "# Calculate and show fit parameters. \n",
    "popt, pcov = curve_fit( exp_fit, xdata[0:], ydata[0:] , p0=[100,100,1,-25.],maxfev=1000000)\n",
    "#popt, pcov = curve_fit( exp_fit, xdata[2:], ydata[2:] , maxfev=100000)\n",
    "print(popt)\n",
    "print(pcov)"
   ]
  },
  {
   "cell_type": "code",
   "execution_count": 356,
   "metadata": {
    "collapsed": false
   },
   "outputs": [
    {
     "data": {
      "image/png": "[encoded data removed]",
      "text/plain": [
       "<matplotlib.figure.Figure at 0x7fbbe625f490>"
      ]
     },
     "metadata": {},
     "output_type": "display_data"
    }
   ],
   "source": [
    "# Plot fitted curve along with data\n",
    "curvex=np.linspace(3,510,1000)\n",
    "curvey= exp_fit(curvex, *popt  )\n",
    "plt.plot(xdata,ydata,'*')\n",
    "plt.plot(curvex,curvey,'r')\n",
    "\n",
    "plt.xlabel('$t [ms]$')\n",
    "plt.ylabel('Force1.Force_x [newton]')\n",
    "plt.title('$DF1$ ')\n",
    "\n",
    "plt.show()"
   ]
  },
  {
   "cell_type": "code",
   "execution_count": 357,
   "metadata": {
    "collapsed": false
   },
   "outputs": [
    {
     "name": "stdout",
     "output_type": "stream",
     "text": [
      "[  9.83442122e+01   4.59986299e+01   1.42182756e-02   3.31879780e+03]\n",
      "[[  2.15690227e+14  -1.54495024e+14  -4.19716783e+03  -3.60536323e+04]\n",
      " [ -1.54495024e+14   1.10662002e+14   3.00634836e+03   2.58074981e+04]\n",
      " [ -4.19716783e+03   3.00634836e+03   3.26164528e-06   4.41157372e-03]\n",
      " [ -3.60535988e+04   2.58074758e+04   4.41157372e-03   1.66801247e+01]]\n"
     ]
    }
   ],
   "source": [
    "xdata = np.array( DF1_A57[\"Time [ms]\"] )\n",
    "ydata = np.array( DF1_A57[\"Force1.Force_y [newton]\"] )\n",
    "\n",
    "# Calculate and show fit parameters. \n",
    "popt, pcov = curve_fit( exp_fit, xdata[0:], ydata[0:] , p0=[100,100,1,-25.],maxfev=1000000)\n",
    "#popt, pcov = curve_fit( exp_fit, xdata[2:], ydata[2:] , maxfev=100000)\n",
    "print(popt)\n",
    "print(pcov)"
   ]
  },
  {
   "cell_type": "code",
   "execution_count": 358,
   "metadata": {
    "collapsed": false
   },
   "outputs": [
    {
     "data": {
      "image/png": "[encoded data removed]",
      "text/plain": [
       "<matplotlib.figure.Figure at 0x7fbbe7bbced0>"
      ]
     },
     "metadata": {},
     "output_type": "display_data"
    }
   ],
   "source": [
    "# Plot fitted curve along with data\n",
    "curvex=np.linspace(3,510,1000)\n",
    "curvey= exp_fit(curvex, *popt  )\n",
    "plt.plot(xdata,ydata,'*')\n",
    "plt.plot(curvex,curvey,'r')\n",
    "\n",
    "plt.xlabel('$t [ms]$')\n",
    "plt.ylabel('Force1.Force_y [newton]')\n",
    "plt.title('$DF1$ ')\n",
    "\n",
    "plt.show()"
   ]
  },
  {
   "cell_type": "code",
   "execution_count": 364,
   "metadata": {
    "collapsed": false
   },
   "outputs": [
    {
     "name": "stdout",
     "output_type": "stream",
     "text": [
      "[  1.21177361e+02   4.66284485e+01   1.36915919e-02  -4.70124638e+00]\n",
      "[[ -1.50276606e+17   9.06417285e+16   5.93535778e+04  -5.35088501e+07]\n",
      " [  9.06417285e+16  -5.46720022e+16  -3.58000453e+04   3.22747072e+07]\n",
      " [  5.93535708e+04  -3.58000541e+04   1.03996765e-06   1.96508866e-03]\n",
      " [ -5.35088332e+07   3.22746970e+07   1.96508866e-03   9.23283065e+00]]\n"
     ]
    }
   ],
   "source": [
    "xdata = np.array( DF1_A57[\"Time [ms]\"] )\n",
    "ydata = np.array( DF1_A57[\"Force1.Force_z [newton]\"] )\n",
    "\n",
    "# Calculate and show fit parameters. \n",
    "popt, pcov = curve_fit( exp_fit, xdata[0:], ydata[0:] , p0=[1000,100,1,-25.],maxfev=1000000)\n",
    "#popt, pcov = curve_fit( exp_fit, xdata[2:], ydata[2:] , maxfev=100000)\n",
    "print(popt)\n",
    "print(pcov)"
   ]
  },
  {
   "cell_type": "code",
   "execution_count": 365,
   "metadata": {
    "collapsed": false
   },
   "outputs": [
    {
     "data": {
      "image/png": "[encoded data removed]",
      "text/plain": [
       "<matplotlib.figure.Figure at 0x7fbbe5cf5d90>"
      ]
     },
     "metadata": {},
     "output_type": "display_data"
    }
   ],
   "source": [
    "# Plot fitted curve along with data\n",
    "curvex=np.linspace(3,510,1000)\n",
    "curvey= exp_fit(curvex, *popt  )\n",
    "plt.plot(xdata,ydata,'*')\n",
    "plt.plot(curvex,curvey,'r')\n",
    "\n",
    "plt.xlabel('$t [ms]$')\n",
    "plt.ylabel('Force1.Force_z [newton]')\n",
    "plt.title('$DF1$ ')\n",
    "\n",
    "plt.show()"
   ]
  },
  {
   "cell_type": "code",
   "execution_count": 371,
   "metadata": {
    "collapsed": false
   },
   "outputs": [
    {
     "name": "stdout",
     "output_type": "stream",
     "text": [
      "[  3.49713532e-02   2.70577913e+01   7.56767646e-03  -3.41335192e-02]\n",
      "[[  1.88060923e+10  -7.11907341e+13   3.29767954e+02   4.17481711e+02]\n",
      " [ -7.11907341e+13   2.69493552e+17  -1.24834142e+06  -1.58038322e+06]\n",
      " [  3.29767947e+02  -1.24834140e+06   2.69853970e-05   3.39625350e-05]\n",
      " [  4.17481700e+02  -1.58038317e+06   3.39625350e-05   5.69000543e-05]]\n"
     ]
    }
   ],
   "source": [
    "xdata = np.array( XY1_A57[\"Time [ms]\"] )\n",
    "ydata = np.array( XY1_A57[\"Force1.Force_x [kNewton]\"] )\n",
    "\n",
    "# Calculate and show fit parameters. \n",
    "popt, pcov = curve_fit( exp_fit, xdata[0:], ydata[0:] , p0=[100,100,1,-25.],maxfev=1000000)\n",
    "#popt, pcov = curve_fit( exp_fit, xdata[2:], ydata[2:] , maxfev=100000)\n",
    "print(popt)\n",
    "print(pcov)"
   ]
  },
  {
   "cell_type": "code",
   "execution_count": 372,
   "metadata": {
    "collapsed": false
   },
   "outputs": [
    {
     "data": {
      "image/png": "[encoded data removed]",
      "text/plain": [
       "<matplotlib.figure.Figure at 0x7fbbe5c0ea50>"
      ]
     },
     "metadata": {},
     "output_type": "display_data"
    }
   ],
   "source": [
    "# Plot fitted curve along with data\n",
    "curvex=np.linspace(3,510,1000)\n",
    "curvey= exp_fit(curvex, *popt  )\n",
    "plt.plot(xdata,ydata,'*')\n",
    "plt.plot(curvex,curvey,'r')\n",
    "\n",
    "plt.xlabel('$t [ms]$')\n",
    "plt.ylabel('Force1.Force_x [kNewton]')\n",
    "plt.title('$DF1$ ')\n",
    "\n",
    "plt.show()"
   ]
  },
  {
   "cell_type": "code",
   "execution_count": 373,
   "metadata": {
    "collapsed": false
   },
   "outputs": [
    {
     "name": "stdout",
     "output_type": "stream",
     "text": [
      "[  8.39104688e-02   5.71640312e+01   1.42175162e-02   3.31879675e+00]\n",
      "[[  3.90449405e+08  -3.27284048e+11  -6.67542716e+00  -7.72726891e+00]\n",
      " [ -3.27284048e+11   2.74337332e+14   5.59549318e+03   6.47716148e+03]\n",
      " [ -6.67542715e+00   5.59549320e+03   3.29392096e-06   4.54300778e-06]\n",
      " [ -7.72726892e+00   6.47716149e+03   4.54300778e-06   1.68335710e-05]]\n"
     ]
    }
   ],
   "source": [
    "xdata = np.array( XY1_A57[\"Time [ms]\"] )\n",
    "ydata = np.array( XY1_A57[\"Force1.Force_y [kNewton]\"] )\n",
    "\n",
    "# Calculate and show fit parameters. \n",
    "popt, pcov = curve_fit( exp_fit, xdata[0:], ydata[0:] , p0=[100,100,1,-25.],maxfev=1000000)\n",
    "#popt, pcov = curve_fit( exp_fit, xdata[2:], ydata[2:] , maxfev=100000)\n",
    "print(popt)\n",
    "print(pcov)"
   ]
  },
  {
   "cell_type": "code",
   "execution_count": 374,
   "metadata": {
    "collapsed": false
   },
   "outputs": [
    {
     "data": {
      "image/png": "[encoded data removed]",
      "text/plain": [
       "<matplotlib.figure.Figure at 0x7fbbe5c66a50>"
      ]
     },
     "metadata": {},
     "output_type": "display_data"
    }
   ],
   "source": [
    "# Plot fitted curve along with data\n",
    "curvex=np.linspace(3,510,1000)\n",
    "curvey= exp_fit(curvex, *popt  )\n",
    "plt.plot(xdata,ydata,'*')\n",
    "plt.plot(curvex,curvey,'r')\n",
    "\n",
    "plt.xlabel('$t [ms]$')\n",
    "plt.ylabel('Force1.Force_x [kNewton]')\n",
    "plt.title('$XY1$ ')\n",
    "\n",
    "plt.show()"
   ]
  },
  {
   "cell_type": "code",
   "execution_count": 375,
   "metadata": {
    "collapsed": false
   },
   "outputs": [
    {
     "name": "stdout",
     "output_type": "stream",
     "text": [
      "[  1.07569850e-01   5.53284844e+01   1.36915221e-02  -4.70137407e-03]\n",
      "[[ -1.75098807e+11   1.18888786e+14  -8.55118084e+01  -1.50090646e+02]\n",
      " [  1.18888786e+14  -8.07232431e+16   5.80609005e+04   1.01908708e+05]\n",
      " [ -8.55118238e+01   5.80609118e+04   1.02162821e-06   1.87064998e-06]\n",
      " [ -1.50090697e+02   1.01908743e+05   1.87064996e-06   9.12329033e-06]]\n"
     ]
    }
   ],
   "source": [
    "xdata = np.array( XY1_A57[\"Time [ms]\"] )\n",
    "ydata = np.array( XY1_A57[\"Force1.Force_z [kNewton]\"] )\n",
    "\n",
    "# Calculate and show fit parameters. \n",
    "popt, pcov = curve_fit( exp_fit, xdata[0:], ydata[0:] , p0=[100,100,1,-25.],maxfev=1000000)\n",
    "#popt, pcov = curve_fit( exp_fit, xdata[2:], ydata[2:] , maxfev=100000)\n",
    "print(popt)\n",
    "print(pcov)"
   ]
  },
  {
   "cell_type": "code",
   "execution_count": 376,
   "metadata": {
    "collapsed": false
   },
   "outputs": [
    {
     "data": {
      "image/png": "[encoded data removed]",
      "text/plain": [
       "<matplotlib.figure.Figure at 0x7fbbe5dfe810>"
      ]
     },
     "metadata": {},
     "output_type": "display_data"
    }
   ],
   "source": [
    "# Plot fitted curve along with data\n",
    "curvex=np.linspace(3,510,1000)\n",
    "curvey= exp_fit(curvex, *popt  )\n",
    "plt.plot(xdata,ydata,'*')\n",
    "plt.plot(curvex,curvey,'r')\n",
    "\n",
    "plt.xlabel('$t [ms]$')\n",
    "plt.ylabel('Force1.Force_z [kNewton]')\n",
    "plt.title('$XY1$ ')\n",
    "\n",
    "plt.show()"
   ]
  },
  {
   "cell_type": "code",
   "execution_count": null,
   "metadata": {
    "collapsed": true
   },
   "outputs": [],
   "source": []
  }
 ],
 "metadata": {
  "kernelspec": {
   "display_name": "Python 2",
   "language": "python",
   "name": "python2"
  },
  "language_info": {
   "codemirror_mode": {
    "name": "ipython",
    "version": 2
   },
   "file_extension": ".py",
   "mimetype": "text/x-python",
   "name": "python",
   "nbconvert_exporter": "python",
   "pygments_lexer": "ipython2",
   "version": "2.7.11"
  }
 },
 "nbformat": 4,
 "nbformat_minor": 0
}
