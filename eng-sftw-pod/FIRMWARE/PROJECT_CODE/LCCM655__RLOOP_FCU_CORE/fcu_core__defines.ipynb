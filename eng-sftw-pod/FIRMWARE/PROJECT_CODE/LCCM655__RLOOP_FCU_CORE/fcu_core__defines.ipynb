{
 "cells": [
  {
   "cell_type": "markdown",
   "metadata": {},
   "source": [
    "Do the following commands with `swig` to create the Python list that has all values for `fcu_core__defines.h`, the *flight control code constants.*  \n",
    "\n",
    "```  \n",
    "swig -python -module fcu_core__defines fcu_core__defines.i\n",
    "\n",
    "gcc -c -fpic fcu_core__defines_wrap.c fcu_core__defines.h -I/usr/include/python2.7  \n",
    "\n",
    "gcc -shared fcu_core__defines_wrap.o -o _fcu_core__defines.so \n",
    "```  \n",
    "Then use as desired:"
   ]
  },
  {
   "cell_type": "code",
   "execution_count": 1,
   "metadata": {
    "collapsed": true
   },
   "outputs": [],
   "source": [
    "import fcu_core__defines  "
   ]
  },
  {
   "cell_type": "code",
   "execution_count": 4,
   "metadata": {
    "collapsed": false
   },
   "outputs": [
    {
     "data": {
      "text/plain": [
       "['C_FCU__ACCEL_FILTER_WINDOW',\n",
       " 'C_FCU__ASI_COMMAND_LIST_MAX',\n",
       " 'C_FCU__BRAKES__MAX_IBEAM_DIST_MM',\n",
       " 'C_FCU__BRAKES__MIN_IBEAM_DIST_MM',\n",
       " 'C_FCU__EDDYBRAKES_APPL_MLP_DISTANCE',\n",
       " 'C_FCU__EDDYBRAKES_NOM_APPL_SPEED',\n",
       " 'C_FCU__EDDYBRAKES_NOM_RELEASE_SPEED',\n",
       " 'C_FCU__EDDYBRAKES_RELEASE_MLP_DISTANCE',\n",
       " 'C_FCU__EDDYBRAKES_STEPPER_MOTOR_MAX_TEMP',\n",
       " 'C_FCU__GEOM__NUM_ITEMS_F32',\n",
       " 'C_FCU__GEOM__NUM_ITEMS_S32',\n",
       " 'C_FCU__GS_COMM_LOSS_DELAY',\n",
       " 'C_FCU__HE_CRUISE_RPM',\n",
       " 'C_FCU__HE_MAX_CURRENT',\n",
       " 'C_FCU__HE_MAX_TEMPERATURE',\n",
       " 'C_FCU__HE_MAX_VOLTAGE',\n",
       " 'C_FCU__HE_MIN_CURRENT',\n",
       " 'C_FCU__HE_MIN_VOLTAGE',\n",
       " 'C_FCU__HE_RPM_TOLERANCE',\n",
       " 'C_FCU__HE_STATIC_HOVER_RPM',\n",
       " 'C_FCU__LASERORIENT_MAX_UNLIFTED_HEIGHT',\n",
       " 'C_FCU__LASERORIENT_MIN_LIFTED_HEIGHT',\n",
       " 'C_FCU__LASERORIENT_MIN_RUN_MODE_HEIGHT',\n",
       " 'C_FCU__LASER_CONTRAST__MAX_STRIPES',\n",
       " 'C_FCU__LIFTMECH_ACTUATOR_NOM_UNLIFT_SPEED',\n",
       " 'C_FCU__LIFTMECH_RETRACTED_MLP_DISTANCE',\n",
       " 'C_FCU__MAINSM_PUSHER_RELEASE_DELAY',\n",
       " 'C_FCU__MAINSM_PUSHER_START_CONFIRM_DELAY',\n",
       " 'C_FCU__NAV_ACCELEROMETER_HIGH_VAL_DELAY',\n",
       " 'C_FCU__NAV_ACCELEROMETER_LOW_VAL_DELAY',\n",
       " 'C_FCU__NAV_LRF_FIRST_EXPECTED_RANGE_MAX',\n",
       " 'C_FCU__NAV_LRF_FIRST_EXPECTED_RANGE_MIN',\n",
       " 'C_FCU__NAV_LRF_MIN_POS_TO_ACTIVATE',\n",
       " 'C_FCU__NAV_LRF_TRANSITION_DELAY_FROM_CONTRAST_SENSORS',\n",
       " 'C_FCU__NAV_MAX_ACCELERATION',\n",
       " 'C_FCU__NAV_MAX_UNLIFTED_HEIGHT',\n",
       " 'C_FCU__NAV_MAX_X_POS_UNCERTAINTY',\n",
       " 'C_FCU__NAV_MIN_PUSHER_ACCEL',\n",
       " 'C_FCU__NAV_MIN_PUSHER_SPEED',\n",
       " 'C_FCU__NAV_MISERABLE_STOP_CONFIRM_DELAY',\n",
       " 'C_FCU__NAV_NUM_CONTRAST_SENSORS',\n",
       " 'C_FCU__NAV_PODSPEED_MAX_SPEED_TO_STABILIZE',\n",
       " 'C_FCU__NAV_PODSPEED_STANDBY',\n",
       " 'C_FCU__NAV_POD_LENGTH',\n",
       " 'C_FCU__NAV_POD_MIN_X_POS',\n",
       " 'C_FCU__NAV_PUSHER_START_XPOS',\n",
       " 'C_FCU__NAV_SPEED_UNCERTAINTY_OFFSET',\n",
       " 'C_FCU__NAV_STARTING_XPOS_LC_AFT',\n",
       " 'C_FCU__NAV_STARTING_XPOS_LC_FWD',\n",
       " 'C_FCU__NAV_STARTING_XPOS_LC_MID',\n",
       " 'C_FCU__NAV_STRIPE_DETECTION_NAV_DELAY',\n",
       " 'C_FCU__NAV_STRIPE_LENGTH',\n",
       " 'C_FCU__NAV_X_POS_UNCERTAINTY_OFFSET',\n",
       " 'C_FCU__NUM_ACCEL_CHIPS',\n",
       " 'C_FCU__NUM_BRAKES',\n",
       " 'C_FCU__NUM_HOVER_ENGINES',\n",
       " 'C_FCU__NUM_LASERS_CONTRAST',\n",
       " 'C_FCU__NUM_LASERS_GROUND',\n",
       " 'C_FCU__NUM_LASERS_IBEAM',\n",
       " 'C_FCU__NUM_LASERS_OPTONCDT',\n",
       " 'C_FCU__POD_STOP_X_POS',\n",
       " 'C_FCU__POD_TARGET_POINT_MARGIN_POS',\n",
       " 'C_FCU__SC16_ASI_INDEX',\n",
       " 'C_FCU__SC16_FWD_LASER_INDEX',\n",
       " 'C_FCU__SC16_OPTO_FL_INDEX',\n",
       " 'C_FCU__SC16_OPTO_FR_INDEX',\n",
       " 'C_FCU__SC16_OPTO_RL_INDEX',\n",
       " 'C_FCU__SC16_OPTO_RR_INDEX',\n",
       " 'C_FCU__SC16_OPTO_YAWF_INDEX',\n",
       " 'C_FCU__SC16_OPTO_YAWR_INDEX',\n",
       " 'LASER_ORIENT__A',\n",
       " 'LASER_ORIENT__B',\n",
       " 'LASER_ORIENT__C',\n",
       " 'LASER_ORIENT__D',\n",
       " 'LASER_ORIENT__X',\n",
       " 'LASER_ORIENT__Y',\n",
       " 'LASER_ORIENT__Z',\n",
       " '__builtins__',\n",
       " '__doc__',\n",
       " '__file__',\n",
       " '__name__',\n",
       " '__package__',\n",
       " '_fcu_core__defines',\n",
       " '_newclass',\n",
       " '_object',\n",
       " '_swig_getattr',\n",
       " '_swig_getattr_nondynamic',\n",
       " '_swig_property',\n",
       " '_swig_repr',\n",
       " '_swig_setattr',\n",
       " '_swig_setattr_nondynamic']"
      ]
     },
     "execution_count": 4,
     "metadata": {},
     "output_type": "execute_result"
    }
   ],
   "source": [
    "dir(fcu_core__defines)"
   ]
  },
  {
   "cell_type": "code",
   "execution_count": 17,
   "metadata": {
    "collapsed": false
   },
   "outputs": [
    {
     "data": {
      "text/plain": [
       "'C_FCU'"
      ]
     },
     "execution_count": 17,
     "metadata": {},
     "output_type": "execute_result"
    }
   ],
   "source": [
    "dir(fcu_core__defines)[0][:5]"
   ]
  },
  {
   "cell_type": "code",
   "execution_count": 31,
   "metadata": {
    "collapsed": false
   },
   "outputs": [],
   "source": [
    "fcu_const_lst = [const if const[:5] == 'C_FCU' or const[:5] == 'LASER' else None for const in dir(fcu_core__defines)]\n",
    "fcu_const_lst = [const for const in fcu_const_lst if const != None]"
   ]
  },
  {
   "cell_type": "code",
   "execution_count": 32,
   "metadata": {
    "collapsed": false
   },
   "outputs": [
    {
     "data": {
      "text/plain": [
       "['C_FCU__ACCEL_FILTER_WINDOW',\n",
       " 'C_FCU__ASI_COMMAND_LIST_MAX',\n",
       " 'C_FCU__BRAKES__MAX_IBEAM_DIST_MM',\n",
       " 'C_FCU__BRAKES__MIN_IBEAM_DIST_MM',\n",
       " 'C_FCU__EDDYBRAKES_APPL_MLP_DISTANCE',\n",
       " 'C_FCU__EDDYBRAKES_NOM_APPL_SPEED',\n",
       " 'C_FCU__EDDYBRAKES_NOM_RELEASE_SPEED',\n",
       " 'C_FCU__EDDYBRAKES_RELEASE_MLP_DISTANCE',\n",
       " 'C_FCU__EDDYBRAKES_STEPPER_MOTOR_MAX_TEMP',\n",
       " 'C_FCU__GEOM__NUM_ITEMS_F32',\n",
       " 'C_FCU__GEOM__NUM_ITEMS_S32',\n",
       " 'C_FCU__GS_COMM_LOSS_DELAY',\n",
       " 'C_FCU__HE_CRUISE_RPM',\n",
       " 'C_FCU__HE_MAX_CURRENT',\n",
       " 'C_FCU__HE_MAX_TEMPERATURE',\n",
       " 'C_FCU__HE_MAX_VOLTAGE',\n",
       " 'C_FCU__HE_MIN_CURRENT',\n",
       " 'C_FCU__HE_MIN_VOLTAGE',\n",
       " 'C_FCU__HE_RPM_TOLERANCE',\n",
       " 'C_FCU__HE_STATIC_HOVER_RPM',\n",
       " 'C_FCU__LASERORIENT_MAX_UNLIFTED_HEIGHT',\n",
       " 'C_FCU__LASERORIENT_MIN_LIFTED_HEIGHT',\n",
       " 'C_FCU__LASERORIENT_MIN_RUN_MODE_HEIGHT',\n",
       " 'C_FCU__LASER_CONTRAST__MAX_STRIPES',\n",
       " 'C_FCU__LIFTMECH_ACTUATOR_NOM_UNLIFT_SPEED',\n",
       " 'C_FCU__LIFTMECH_RETRACTED_MLP_DISTANCE',\n",
       " 'C_FCU__MAINSM_PUSHER_RELEASE_DELAY',\n",
       " 'C_FCU__MAINSM_PUSHER_START_CONFIRM_DELAY',\n",
       " 'C_FCU__NAV_ACCELEROMETER_HIGH_VAL_DELAY',\n",
       " 'C_FCU__NAV_ACCELEROMETER_LOW_VAL_DELAY',\n",
       " 'C_FCU__NAV_LRF_FIRST_EXPECTED_RANGE_MAX',\n",
       " 'C_FCU__NAV_LRF_FIRST_EXPECTED_RANGE_MIN',\n",
       " 'C_FCU__NAV_LRF_MIN_POS_TO_ACTIVATE',\n",
       " 'C_FCU__NAV_LRF_TRANSITION_DELAY_FROM_CONTRAST_SENSORS',\n",
       " 'C_FCU__NAV_MAX_ACCELERATION',\n",
       " 'C_FCU__NAV_MAX_UNLIFTED_HEIGHT',\n",
       " 'C_FCU__NAV_MAX_X_POS_UNCERTAINTY',\n",
       " 'C_FCU__NAV_MIN_PUSHER_ACCEL',\n",
       " 'C_FCU__NAV_MIN_PUSHER_SPEED',\n",
       " 'C_FCU__NAV_MISERABLE_STOP_CONFIRM_DELAY',\n",
       " 'C_FCU__NAV_NUM_CONTRAST_SENSORS',\n",
       " 'C_FCU__NAV_PODSPEED_MAX_SPEED_TO_STABILIZE',\n",
       " 'C_FCU__NAV_PODSPEED_STANDBY',\n",
       " 'C_FCU__NAV_POD_LENGTH',\n",
       " 'C_FCU__NAV_POD_MIN_X_POS',\n",
       " 'C_FCU__NAV_PUSHER_START_XPOS',\n",
       " 'C_FCU__NAV_SPEED_UNCERTAINTY_OFFSET',\n",
       " 'C_FCU__NAV_STARTING_XPOS_LC_AFT',\n",
       " 'C_FCU__NAV_STARTING_XPOS_LC_FWD',\n",
       " 'C_FCU__NAV_STARTING_XPOS_LC_MID',\n",
       " 'C_FCU__NAV_STRIPE_DETECTION_NAV_DELAY',\n",
       " 'C_FCU__NAV_STRIPE_LENGTH',\n",
       " 'C_FCU__NAV_X_POS_UNCERTAINTY_OFFSET',\n",
       " 'C_FCU__NUM_ACCEL_CHIPS',\n",
       " 'C_FCU__NUM_BRAKES',\n",
       " 'C_FCU__NUM_HOVER_ENGINES',\n",
       " 'C_FCU__NUM_LASERS_CONTRAST',\n",
       " 'C_FCU__NUM_LASERS_GROUND',\n",
       " 'C_FCU__NUM_LASERS_IBEAM',\n",
       " 'C_FCU__NUM_LASERS_OPTONCDT',\n",
       " 'C_FCU__POD_STOP_X_POS',\n",
       " 'C_FCU__POD_TARGET_POINT_MARGIN_POS',\n",
       " 'C_FCU__SC16_ASI_INDEX',\n",
       " 'C_FCU__SC16_FWD_LASER_INDEX',\n",
       " 'C_FCU__SC16_OPTO_FL_INDEX',\n",
       " 'C_FCU__SC16_OPTO_FR_INDEX',\n",
       " 'C_FCU__SC16_OPTO_RL_INDEX',\n",
       " 'C_FCU__SC16_OPTO_RR_INDEX',\n",
       " 'C_FCU__SC16_OPTO_YAWF_INDEX',\n",
       " 'C_FCU__SC16_OPTO_YAWR_INDEX',\n",
       " 'LASER_ORIENT__A',\n",
       " 'LASER_ORIENT__B',\n",
       " 'LASER_ORIENT__C',\n",
       " 'LASER_ORIENT__D',\n",
       " 'LASER_ORIENT__X',\n",
       " 'LASER_ORIENT__Y',\n",
       " 'LASER_ORIENT__Z']"
      ]
     },
     "execution_count": 32,
     "metadata": {},
     "output_type": "execute_result"
    }
   ],
   "source": [
    "fcu_const_lst"
   ]
  },
  {
   "cell_type": "code",
   "execution_count": 37,
   "metadata": {
    "collapsed": false
   },
   "outputs": [],
   "source": [
    "fcu_const_vals = [getattr( fcu_core__defines, constname) for constname in fcu_const_lst]"
   ]
  },
  {
   "cell_type": "code",
   "execution_count": 38,
   "metadata": {
    "collapsed": false
   },
   "outputs": [],
   "source": [
    "fcu_consts = zip(fcu_const_lst, fcu_const_vals)"
   ]
  },
  {
   "cell_type": "code",
   "execution_count": 40,
   "metadata": {
    "collapsed": false
   },
   "outputs": [
    {
     "data": {
      "text/plain": [
       "[('C_FCU__ACCEL_FILTER_WINDOW', 8),\n",
       " ('C_FCU__ASI_COMMAND_LIST_MAX', 5),\n",
       " ('C_FCU__BRAKES__MAX_IBEAM_DIST_MM', 22.0),\n",
       " ('C_FCU__BRAKES__MIN_IBEAM_DIST_MM', 2.5),\n",
       " ('C_FCU__EDDYBRAKES_APPL_MLP_DISTANCE', 1),\n",
       " ('C_FCU__EDDYBRAKES_NOM_APPL_SPEED', 1),\n",
       " ('C_FCU__EDDYBRAKES_NOM_RELEASE_SPEED', 1),\n",
       " ('C_FCU__EDDYBRAKES_RELEASE_MLP_DISTANCE', 1),\n",
       " ('C_FCU__EDDYBRAKES_STEPPER_MOTOR_MAX_TEMP', 90),\n",
       " ('C_FCU__GEOM__NUM_ITEMS_F32', 8),\n",
       " ('C_FCU__GEOM__NUM_ITEMS_S32', 8),\n",
       " ('C_FCU__GS_COMM_LOSS_DELAY', 1),\n",
       " ('C_FCU__HE_CRUISE_RPM', 2000),\n",
       " ('C_FCU__HE_MAX_CURRENT', 10),\n",
       " ('C_FCU__HE_MAX_TEMPERATURE', 95),\n",
       " ('C_FCU__HE_MAX_VOLTAGE', 100000),\n",
       " ('C_FCU__HE_MIN_CURRENT', 1),\n",
       " ('C_FCU__HE_MIN_VOLTAGE', 1),\n",
       " ('C_FCU__HE_RPM_TOLERANCE', 500),\n",
       " ('C_FCU__HE_STATIC_HOVER_RPM', 2000),\n",
       " ('C_FCU__LASERORIENT_MAX_UNLIFTED_HEIGHT', 10),\n",
       " ('C_FCU__LASERORIENT_MIN_LIFTED_HEIGHT', 10),\n",
       " ('C_FCU__LASERORIENT_MIN_RUN_MODE_HEIGHT', 5),\n",
       " ('C_FCU__LASER_CONTRAST__MAX_STRIPES', 55),\n",
       " ('C_FCU__LIFTMECH_ACTUATOR_NOM_UNLIFT_SPEED', 30),\n",
       " ('C_FCU__LIFTMECH_RETRACTED_MLP_DISTANCE', 30),\n",
       " ('C_FCU__MAINSM_PUSHER_RELEASE_DELAY', 10),\n",
       " ('C_FCU__MAINSM_PUSHER_START_CONFIRM_DELAY', 20),\n",
       " ('C_FCU__NAV_ACCELEROMETER_HIGH_VAL_DELAY', 55),\n",
       " ('C_FCU__NAV_ACCELEROMETER_LOW_VAL_DELAY', 55),\n",
       " ('C_FCU__NAV_LRF_FIRST_EXPECTED_RANGE_MAX', 55),\n",
       " ('C_FCU__NAV_LRF_FIRST_EXPECTED_RANGE_MIN', 55),\n",
       " ('C_FCU__NAV_LRF_MIN_POS_TO_ACTIVATE', 55),\n",
       " ('C_FCU__NAV_LRF_TRANSITION_DELAY_FROM_CONTRAST_SENSORS', 55),\n",
       " ('C_FCU__NAV_MAX_ACCELERATION', 55),\n",
       " ('C_FCU__NAV_MAX_UNLIFTED_HEIGHT', 10),\n",
       " ('C_FCU__NAV_MAX_X_POS_UNCERTAINTY', 55),\n",
       " ('C_FCU__NAV_MIN_PUSHER_ACCEL', 5000),\n",
       " ('C_FCU__NAV_MIN_PUSHER_SPEED', 10),\n",
       " ('C_FCU__NAV_MISERABLE_STOP_CONFIRM_DELAY', 200),\n",
       " ('C_FCU__NAV_NUM_CONTRAST_SENSORS', 3),\n",
       " ('C_FCU__NAV_PODSPEED_MAX_SPEED_TO_STABILIZE', 1000000),\n",
       " ('C_FCU__NAV_PODSPEED_STANDBY', 1),\n",
       " ('C_FCU__NAV_POD_LENGTH', 55),\n",
       " ('C_FCU__NAV_POD_MIN_X_POS', 500),\n",
       " ('C_FCU__NAV_PUSHER_START_XPOS', 55),\n",
       " ('C_FCU__NAV_SPEED_UNCERTAINTY_OFFSET', 55),\n",
       " ('C_FCU__NAV_STARTING_XPOS_LC_AFT', 55),\n",
       " ('C_FCU__NAV_STARTING_XPOS_LC_FWD', 55),\n",
       " ('C_FCU__NAV_STARTING_XPOS_LC_MID', 55),\n",
       " ('C_FCU__NAV_STRIPE_DETECTION_NAV_DELAY', 55),\n",
       " ('C_FCU__NAV_STRIPE_LENGTH', 55),\n",
       " ('C_FCU__NAV_X_POS_UNCERTAINTY_OFFSET', 55),\n",
       " ('C_FCU__NUM_ACCEL_CHIPS', 2),\n",
       " ('C_FCU__NUM_BRAKES', 2),\n",
       " ('C_FCU__NUM_HOVER_ENGINES', 8),\n",
       " ('C_FCU__NUM_LASERS_CONTRAST', 3),\n",
       " ('C_FCU__NUM_LASERS_GROUND', 4),\n",
       " ('C_FCU__NUM_LASERS_IBEAM', 2),\n",
       " ('C_FCU__NUM_LASERS_OPTONCDT', 6),\n",
       " ('C_FCU__POD_STOP_X_POS', 1600),\n",
       " ('C_FCU__POD_TARGET_POINT_MARGIN_POS', 16),\n",
       " ('C_FCU__SC16_ASI_INDEX', 7),\n",
       " ('C_FCU__SC16_FWD_LASER_INDEX', 6),\n",
       " ('C_FCU__SC16_OPTO_FL_INDEX', 0),\n",
       " ('C_FCU__SC16_OPTO_FR_INDEX', 1),\n",
       " ('C_FCU__SC16_OPTO_RL_INDEX', 2),\n",
       " ('C_FCU__SC16_OPTO_RR_INDEX', 3),\n",
       " ('C_FCU__SC16_OPTO_YAWF_INDEX', 4),\n",
       " ('C_FCU__SC16_OPTO_YAWR_INDEX', 5),\n",
       " ('LASER_ORIENT__A', 0),\n",
       " ('LASER_ORIENT__B', 1),\n",
       " ('LASER_ORIENT__C', 2),\n",
       " ('LASER_ORIENT__D', 3),\n",
       " ('LASER_ORIENT__X', 0),\n",
       " ('LASER_ORIENT__Y', 1),\n",
       " ('LASER_ORIENT__Z', 2)]"
      ]
     },
     "execution_count": 40,
     "metadata": {},
     "output_type": "execute_result"
    }
   ],
   "source": [
    "fcu_consts"
   ]
  },
  {
   "cell_type": "code",
   "execution_count": null,
   "metadata": {
    "collapsed": true
   },
   "outputs": [],
   "source": []
  }
 ],
 "metadata": {
  "kernelspec": {
   "display_name": "Python 2",
   "language": "python",
   "name": "python2"
  },
  "language_info": {
   "codemirror_mode": {
    "name": "ipython",
    "version": 2
   },
   "file_extension": ".py",
   "mimetype": "text/x-python",
   "name": "python",
   "nbconvert_exporter": "python",
   "pygments_lexer": "ipython2",
   "version": "2.7.12"
  }
 },
 "nbformat": 4,
 "nbformat_minor": 2
}
