{
 "cells": [
  {
   "cell_type": "markdown",
   "metadata": {},
   "source": [
    "# National Institute of Standard and Technology (NIST) Fundamental Constants and official units conversions  \n",
    "\n",
    "> Build the most current and accurate copy, directly from webscraping the NIST website, of a table of fundamental constants and unit conversions and have the values ready to use in Python.   "
   ]
  },
  {
   "cell_type": "code",
   "execution_count": 1,
   "metadata": {
    "collapsed": true
   },
   "outputs": [],
   "source": [
    "import os, sys\n",
    "import decimal\n",
    "from decimal import Decimal"
   ]
  },
  {
   "cell_type": "code",
   "execution_count": 2,
   "metadata": {
    "collapsed": true
   },
   "outputs": [],
   "source": [
    "import pandas as pd"
   ]
  },
  {
   "cell_type": "code",
   "execution_count": 3,
   "metadata": {
    "collapsed": false
   },
   "outputs": [
    {
     "name": "stdout",
     "output_type": "stream",
     "text": [
      "/home/topolo/PropD/servetheloop/NISTFund\n",
      "['NISTFund.ipynb', '.ipynb_checkpoints', 'NISTFund.pyc', 'NISTFund.py', 'rawdata']\n"
     ]
    }
   ],
   "source": [
    "# get the current directory and files inside \n",
    "print(os.getcwd()); print(os.listdir( os.getcwd() ));"
   ]
  },
  {
   "cell_type": "code",
   "execution_count": 4,
   "metadata": {
    "collapsed": false
   },
   "outputs": [],
   "source": [
    "from NISTFund import retrieve_file, scraping_allascii, init_FundConst, make_pd_alphabeticalconv_lst, make_pd_conv_lst"
   ]
  },
  {
   "cell_type": "markdown",
   "metadata": {},
   "source": [
    "`retrieve_file` will directly download the ASCII file that NIST uses in their website for Fundamental constants.  By default, it'll check, and create if necessary, for subdirectory `./rawdata/` and put the ASCII text file there.  "
   ]
  },
  {
   "cell_type": "code",
   "execution_count": 5,
   "metadata": {
    "collapsed": false
   },
   "outputs": [
    {
     "name": "stdout",
     "output_type": "stream",
     "text": [
      "<addinfourl at 139898223266200 whose fp = <socket._fileobject object at 0x7f3c9a18c3d0>>\n"
     ]
    }
   ],
   "source": [
    "urladdr = retrieve_file(); print(urladdr);"
   ]
  },
  {
   "cell_type": "markdown",
   "metadata": {
    "collapsed": false
   },
   "source": [
    "`scraping_allascii` will parse this ASCII table.  Then, the following step will put it into a `pandas DataFrame` with the correct header.  "
   ]
  },
  {
   "cell_type": "code",
   "execution_count": 5,
   "metadata": {
    "collapsed": false
   },
   "outputs": [
    {
     "data": {
      "text/plain": [
       "True"
      ]
     },
     "execution_count": 5,
     "metadata": {},
     "output_type": "execute_result"
    }
   ],
   "source": [
    "os.path.isfile('./rawdata/allascii.txt') "
   ]
  },
  {
   "cell_type": "code",
   "execution_count": 7,
   "metadata": {
    "collapsed": true
   },
   "outputs": [],
   "source": [
    "lines,title,src,header,rawtbl,tbl=scraping_allascii()"
   ]
  },
  {
   "cell_type": "code",
   "execution_count": 8,
   "metadata": {
    "collapsed": true
   },
   "outputs": [],
   "source": [
    "FundConst = pd.DataFrame(tbl, columns=header)"
   ]
  },
  {
   "cell_type": "markdown",
   "metadata": {},
   "source": [
    "The above 3 lines are what `init_FundConst` essentially does.  "
   ]
  },
  {
   "cell_type": "code",
   "execution_count": 5,
   "metadata": {
    "collapsed": true
   },
   "outputs": [],
   "source": [
    "FundConst = init_FundConst()"
   ]
  },
  {
   "cell_type": "markdown",
   "metadata": {},
   "source": [
    "## NIST Official conversions  "
   ]
  },
  {
   "cell_type": "markdown",
   "metadata": {},
   "source": [
    "To start creating to table (when it doesn't exist yet), run the following:  "
   ]
  },
  {
   "cell_type": "code",
   "execution_count": 10,
   "metadata": {
    "collapsed": false
   },
   "outputs": [
    {
     "name": "stderr",
     "output_type": "stream",
     "text": [
      "/home/topolo/Public/anaconda2/lib/python2.7/site-packages/bs4/__init__.py:166: UserWarning: No parser was explicitly specified, so I'm using the best available HTML parser for this system (\"lxml\"). This usually isn't a problem, but if you run this code on another system, or in a different virtual environment, it may use a different parser and behave differently.\n",
      "\n",
      "To get rid of this warning, change this:\n",
      "\n",
      " BeautifulSoup([your markup])\n",
      "\n",
      "to this:\n",
      "\n",
      " BeautifulSoup([your markup], \"lxml\")\n",
      "\n",
      "  markup_type=markup_type))\n"
     ]
    },
    {
     "ename": "IndexError",
     "evalue": "list index out of range",
     "output_type": "error",
     "traceback": [
      "\u001b[1;31m---------------------------------------------------------------------------\u001b[0m",
      "\u001b[1;31mIndexError\u001b[0m                                Traceback (most recent call last)",
      "\u001b[1;32m<ipython-input-10-10376e17568d>\u001b[0m in \u001b[0;36m<module>\u001b[1;34m()\u001b[0m\n\u001b[1;32m----> 1\u001b[1;33m \u001b[0mDF_conv\u001b[0m\u001b[1;33m=\u001b[0m\u001b[0mmake_pd_conv_lst\u001b[0m\u001b[1;33m(\u001b[0m\u001b[1;33m)\u001b[0m\u001b[1;33m\u001b[0m\u001b[0m\n\u001b[0m",
      "\u001b[1;32m/home/topolo/PropD/servetheloop/NISTFund/NISTFund.py\u001b[0m in \u001b[0;36mmake_pd_conv_lst\u001b[1;34m(filename)\u001b[0m\n\u001b[0;32m    204\u001b[0m     \u001b[0mrun\u001b[0m \u001b[0mmake_pd_conv_1st\u001b[0m \u001b[0mfirst\u001b[0m \u001b[0mto\u001b[0m \u001b[0mput\u001b[0m \u001b[0mthe\u001b[0m \u001b[0mpanda\u001b[0m \u001b[0mDataFrame\u001b[0m \u001b[0msaved\u001b[0m \u001b[0mlocally\u001b[0m\u001b[1;33m\u001b[0m\u001b[0m\n\u001b[0;32m    205\u001b[0m     \"\"\"\n\u001b[1;32m--> 206\u001b[1;33m     \u001b[0mheaders\u001b[0m\u001b[1;33m,\u001b[0m\u001b[0mconvdata\u001b[0m\u001b[1;33m,\u001b[0m\u001b[0mconvdata2\u001b[0m \u001b[1;33m=\u001b[0m \u001b[0mmake_conv_lst\u001b[0m\u001b[1;33m(\u001b[0m\u001b[1;33m)\u001b[0m\u001b[1;33m\u001b[0m\u001b[0m\n\u001b[0m\u001b[0;32m    207\u001b[0m     \u001b[0mDF_conv\u001b[0m \u001b[1;33m=\u001b[0m \u001b[0mpd\u001b[0m\u001b[1;33m.\u001b[0m\u001b[0mDataFrame\u001b[0m\u001b[1;33m(\u001b[0m\u001b[0mconvdata2\u001b[0m\u001b[1;33m,\u001b[0m\u001b[0mcolumns\u001b[0m\u001b[1;33m=\u001b[0m\u001b[0mheaders\u001b[0m\u001b[1;33m)\u001b[0m\u001b[1;33m\u001b[0m\u001b[0m\n\u001b[0;32m    208\u001b[0m     \u001b[0mDF_conv\u001b[0m\u001b[1;33m.\u001b[0m\u001b[0mto_pickle\u001b[0m\u001b[1;33m(\u001b[0m\u001b[1;34m'./rawdata/'\u001b[0m\u001b[1;33m+\u001b[0m\u001b[0mfilename\u001b[0m\u001b[1;33m)\u001b[0m\u001b[1;33m\u001b[0m\u001b[0m\n",
      "\u001b[1;32m/home/topolo/PropD/servetheloop/NISTFund/NISTFund.py\u001b[0m in \u001b[0;36mmake_conv_lst\u001b[1;34m(url, tablecls)\u001b[0m\n\u001b[0;32m    167\u001b[0m     \u001b[0mconvdata2\u001b[0m \u001b[1;33m=\u001b[0m \u001b[1;33m[\u001b[0m\u001b[1;33m]\u001b[0m\u001b[1;33m\u001b[0m\u001b[0m\n\u001b[0;32m    168\u001b[0m \u001b[1;33m\u001b[0m\u001b[0m\n\u001b[1;32m--> 169\u001b[1;33m     \u001b[0mheaders\u001b[0m \u001b[1;33m=\u001b[0m \u001b[0mconvBS\u001b[0m\u001b[1;33m.\u001b[0m\u001b[0mconvtbls\u001b[0m\u001b[1;33m[\u001b[0m\u001b[1;36m0\u001b[0m\u001b[1;33m]\u001b[0m\u001b[1;33m.\u001b[0m\u001b[0mfind_all\u001b[0m\u001b[1;33m(\u001b[0m\u001b[1;34m'tr'\u001b[0m\u001b[1;33m)\u001b[0m\u001b[1;33m[\u001b[0m\u001b[1;36m1\u001b[0m\u001b[1;33m]\u001b[0m\u001b[1;33m.\u001b[0m\u001b[0mfind_all\u001b[0m\u001b[1;33m(\u001b[0m\u001b[1;34m'th'\u001b[0m\u001b[1;33m)\u001b[0m\u001b[1;33m\u001b[0m\u001b[0m\n\u001b[0m\u001b[0;32m    170\u001b[0m     \u001b[0mheaders\u001b[0m \u001b[1;33m=\u001b[0m \u001b[1;33m[\u001b[0m\u001b[0mele\u001b[0m\u001b[1;33m.\u001b[0m\u001b[0mtext\u001b[0m\u001b[1;33m.\u001b[0m\u001b[0mreplace\u001b[0m\u001b[1;33m(\u001b[0m\u001b[1;34m' '\u001b[0m\u001b[1;33m,\u001b[0m\u001b[1;34m''\u001b[0m\u001b[1;33m)\u001b[0m \u001b[1;32mfor\u001b[0m \u001b[0mele\u001b[0m \u001b[1;32min\u001b[0m \u001b[0mheaders\u001b[0m\u001b[1;33m]\u001b[0m\u001b[1;33m\u001b[0m\u001b[0m\n\u001b[0;32m    171\u001b[0m \u001b[1;33m\u001b[0m\u001b[0m\n",
      "\u001b[1;31mIndexError\u001b[0m: list index out of range"
     ]
    }
   ],
   "source": [
    "DF_conv=make_pd_conv_lst()"
   ]
  },
  {
   "cell_type": "code",
   "execution_count": 12,
   "metadata": {
    "collapsed": false
   },
   "outputs": [],
   "source": [
    "from NISTFund import scraped_BS, NISTCONValpha\n",
    "convBS = scraped_BS(NISTCONValpha)"
   ]
  },
  {
   "cell_type": "code",
   "execution_count": 15,
   "metadata": {
    "collapsed": false
   },
   "outputs": [
    {
     "data": {
      "text/plain": [
       "[]"
      ]
     },
     "execution_count": 15,
     "metadata": {},
     "output_type": "execute_result"
    }
   ],
   "source": [
    "convBS.soup.find_all(\"table\",{\"class\":'texttable'})"
   ]
  },
  {
   "cell_type": "markdown",
   "metadata": {},
   "source": [
    "### Lengthy, detailed explanation of how to create or modify the webscraping functions `make_conv_lst`, `make_pd_conv_lst` in the case of changes made on the NIST website, breaking previous links; drop down below this section if it had worked above"
   ]
  },
  {
   "cell_type": "markdown",
   "metadata": {},
   "source": [
    "If you obtain errors as such, this means that the webmasters of the NIST site made changes.  Then you'd have to manually go in and write another webscraping procedure.  However, the Python function I created at least gives a guideline or outline of how one should proceed.  Basically, it's a combination of using the Developer Inspection tool of your web browser (of choice) and using BeautifulSoup to traverse the HTML code of the webpage.  \n",
    "\n",
    "EY : 20170424 note: I had imagined before of a general Python function/webscraper, that could search out the key words or terms so that even if the webmaster(s) change(s) the webpage, it'll dynamically and **automatically** scrape for the table of unit conversions.  I don't know how to do that; please let me know if you do (email, twitter, github comment, etc.)\n",
    "\n",
    "Otherwise, I go manually to the webpage and look at the link I want to scrape, directly.  I see  \n",
    "\n",
    "[NIST Guide to the SI, Appendix B.8: Factors for Units Listed Alphabetically ](https://www.nist.gov/physical-measurement-laboratory/nist-guide-si-appendix-b8)\n",
    "\n",
    "[ NIST Guide to the SI, Appendix B.9: Factors for units listed by kind of quantity or field of science\n",
    "Share\n",
    "](https://www.nist.gov/pml/nist-guide-si-appendix-b9-factors-units-listed-kind-quantity-or-field-science)\n",
    "\n"
   ]
  },
  {
   "cell_type": "code",
   "execution_count": 16,
   "metadata": {
    "collapsed": true
   },
   "outputs": [],
   "source": [
    "convBS = scraped_BS(\"https://www.nist.gov/physical-measurement-laboratory/nist-guide-si-appendix-b8\")"
   ]
  },
  {
   "cell_type": "code",
   "execution_count": 20,
   "metadata": {
    "collapsed": false
   },
   "outputs": [
    {
     "data": {
      "text/plain": [
       "[]"
      ]
     },
     "execution_count": 20,
     "metadata": {},
     "output_type": "execute_result"
    }
   ],
   "source": [
    "convBS.soup.find_all(\"div\",{\"class\":\"table-inner\"})"
   ]
  },
  {
   "cell_type": "code",
   "execution_count": 22,
   "metadata": {
    "collapsed": false
   },
   "outputs": [
    {
     "name": "stdout",
     "output_type": "stream",
     "text": [
      "21\n"
     ]
    }
   ],
   "source": [
    "convBS.soup.find_all(\"table\"); \n",
    "print(len( convBS.soup.find_all(\"table\")) )  # there are 26 letters in the alphabet; NIST has entries for 21 of them"
   ]
  },
  {
   "cell_type": "code",
   "execution_count": 23,
   "metadata": {
    "collapsed": true
   },
   "outputs": [],
   "source": [
    "convBS.convtbls = convBS.soup.find_all(\"table\")\n",
    "convdata=[]\n",
    "convdata2=[]\n",
    "headers = convBS.convtbls[0].find_all('tr')[1].find_all('th')\n",
    "headers = [ele.text.replace(' ','') for ele in headers]"
   ]
  },
  {
   "cell_type": "code",
   "execution_count": 24,
   "metadata": {
    "collapsed": false
   },
   "outputs": [
    {
     "data": {
      "text/plain": [
       "[u'Toconvertfrom', u'to', u'Multiplyby']"
      ]
     },
     "execution_count": 24,
     "metadata": {},
     "output_type": "execute_result"
    }
   ],
   "source": [
    "headers"
   ]
  },
  {
   "cell_type": "code",
   "execution_count": 25,
   "metadata": {
    "collapsed": true
   },
   "outputs": [],
   "source": [
    "for tbl in convBS.convtbls:\n",
    "    for row in tbl.find_all('tr'):\n",
    "        if row.find_all('td') != []:\n",
    "            if row.text != '':\n",
    "                rowsplit = row.text.replace(\"\\n\",'',1).split('\\n')\n",
    "                try:\n",
    "                    rowsplit = [pt.replace(u'\\xa0',u' ').strip() for pt in rowsplit]\n",
    "                except UnicodeDecodeError as err:\n",
    "                    print rowsplit\n",
    "                    Break\n",
    "                    raise err\n",
    "                convdata.append( rowsplit )\n",
    "                if len(row.find_all('td')) == (len(headers)+1):\n",
    "                    convdata2.append( row.find_all('td'))\n"
   ]
  },
  {
   "cell_type": "code",
   "execution_count": 27,
   "metadata": {
    "collapsed": false
   },
   "outputs": [
    {
     "name": "stdout",
     "output_type": "stream",
     "text": [
      "452\n",
      "445\n"
     ]
    }
   ],
   "source": [
    "print(len(convdata));\n",
    "print(len(convdata2))"
   ]
  },
  {
   "cell_type": "code",
   "execution_count": 30,
   "metadata": {
    "collapsed": false
   },
   "outputs": [],
   "source": [
    "convdata3 = []\n",
    "for row in convdata2:\n",
    "    rowout = []\n",
    "    rowout.append( row[0].text.strip())\n",
    "    rowout.append( row[1].text.strip())\n",
    "    value = (row[2].text+row[3].text).strip().replace(u'\\xa0',' ').replace(u'\\n',' ').replace(' ','')\n",
    "        \n",
    "    rowout.append(Decimal( value ))\n",
    "    convdata3.append(rowout)"
   ]
  },
  {
   "cell_type": "code",
   "execution_count": 31,
   "metadata": {
    "collapsed": false
   },
   "outputs": [
    {
     "name": "stdout",
     "output_type": "stream",
     "text": [
      "445\n"
     ]
    }
   ],
   "source": [
    "print(len(convdata3))"
   ]
  },
  {
   "cell_type": "code",
   "execution_count": 36,
   "metadata": {
    "collapsed": false
   },
   "outputs": [
    {
     "data": {
      "text/html": [
       "<div>\n",
       "<table border=\"1\" class=\"dataframe\">\n",
       "  <thead>\n",
       "    <tr style=\"text-align: right;\">\n",
       "      <th></th>\n",
       "      <th>Toconvertfrom</th>\n",
       "      <th>to</th>\n",
       "      <th>Multiplyby</th>\n",
       "    </tr>\n",
       "  </thead>\n",
       "  <tbody>\n",
       "    <tr>\n",
       "      <th>0</th>\n",
       "      <td>abampere</td>\n",
       "      <td>ampere (A)</td>\n",
       "      <td>10</td>\n",
       "    </tr>\n",
       "    <tr>\n",
       "      <th>1</th>\n",
       "      <td>abcoulomb</td>\n",
       "      <td>coulomb (C)</td>\n",
       "      <td>10</td>\n",
       "    </tr>\n",
       "    <tr>\n",
       "      <th>2</th>\n",
       "      <td>abfarad</td>\n",
       "      <td>farad (F)</td>\n",
       "      <td>1.0E+9</td>\n",
       "    </tr>\n",
       "    <tr>\n",
       "      <th>3</th>\n",
       "      <td>abhenry</td>\n",
       "      <td>henry (H)</td>\n",
       "      <td>1.0E-9</td>\n",
       "    </tr>\n",
       "    <tr>\n",
       "      <th>4</th>\n",
       "      <td>abmho</td>\n",
       "      <td>siemens (S)</td>\n",
       "      <td>1.0E+9</td>\n",
       "    </tr>\n",
       "  </tbody>\n",
       "</table>\n",
       "</div>"
      ],
      "text/plain": [
       "  Toconvertfrom           to Multiplyby\n",
       "0      abampere   ampere (A)         10\n",
       "1     abcoulomb  coulomb (C)         10\n",
       "2       abfarad    farad (F)     1.0E+9\n",
       "3       abhenry    henry (H)     1.0E-9\n",
       "4         abmho  siemens (S)     1.0E+9"
      ]
     },
     "execution_count": 36,
     "metadata": {},
     "output_type": "execute_result"
    }
   ],
   "source": [
    "pd.DataFrame(convdata3,columns=headers).head()"
   ]
  },
  {
   "cell_type": "code",
   "execution_count": 35,
   "metadata": {
    "collapsed": false
   },
   "outputs": [
    {
     "name": "stdout",
     "output_type": "stream",
     "text": [
      "452\n"
     ]
    }
   ],
   "source": [
    "print(len(convdata))"
   ]
  },
  {
   "cell_type": "markdown",
   "metadata": {},
   "source": [
    "#### dealing with Appendix B.9: Factors for units listed by kind of quantity or field of science "
   ]
  },
  {
   "cell_type": "code",
   "execution_count": 38,
   "metadata": {
    "collapsed": false
   },
   "outputs": [
    {
     "name": "stdout",
     "output_type": "stream",
     "text": [
      "46\n"
     ]
    }
   ],
   "source": [
    "convBS = scraped_BS(\"https://www.nist.gov/pml/nist-guide-si-appendix-b9-factors-units-listed-kind-quantity-or-field-science\")\n",
    "\n",
    "convBS.convtbls = convBS.soup.find_all(\"table\")\n",
    "print(len(convBS.convtbls))"
   ]
  },
  {
   "cell_type": "code",
   "execution_count": 50,
   "metadata": {
    "collapsed": true
   },
   "outputs": [],
   "source": [
    "headers = convBS.convtbls[1].find_all('tr')[1].find_all('th')\n",
    "headers = [ele.text.replace(' ','') for ele in headers]"
   ]
  },
  {
   "cell_type": "code",
   "execution_count": 51,
   "metadata": {
    "collapsed": false
   },
   "outputs": [
    {
     "data": {
      "text/plain": [
       "[u'Toconvertfrom', u'to', u'Multiplyby']"
      ]
     },
     "execution_count": 51,
     "metadata": {},
     "output_type": "execute_result"
    }
   ],
   "source": [
    "headers"
   ]
  },
  {
   "cell_type": "code",
   "execution_count": 52,
   "metadata": {
    "collapsed": false
   },
   "outputs": [
    {
     "data": {
      "text/plain": [
       "[<tr><td colspan=\"4\"><strong>ACCELERATION</strong></td>\\n</tr>,\n",
       " <tr><th>To convert from</th>\\n<th>to</th>\\n<th colspan=\"2\">Multiply by</th>\\n</tr>,\n",
       " <tr><td>acceleration of free fall, standard (<em>g</em><sub>n</sub>)</td>\\n<td>meter per second squared (m/s<sup>2</sup>)</td>\\n<td><strong>9.806 65 </strong></td>\\n<td><strong>E+00</strong></td>\\n</tr>,\n",
       " <tr><td>foot per second squared (ft/s<sup>2</sup>)</td>\\n<td>meter per second squared (m/s<sup>2</sup>)</td>\\n<td><strong>3.048</strong></td>\\n<td><strong>E-01</strong></td>\\n</tr>,\n",
       " <tr><td>gal (Gal)</td>\\n<td>meter per second squared (m/s<sup>2</sup>)</td>\\n<td><strong>1.0</strong></td>\\n<td><strong>E-02</strong></td>\\n</tr>,\n",
       " <tr><td>inch per second squared (in/s<sup>2</sup>)</td>\\n<td>meter per second squared (m/s<sup>2</sup>)</td>\\n<td><strong>2.54</strong></td>\\n<td><strong>E-02</strong></td>\\n</tr>]"
      ]
     },
     "execution_count": 52,
     "metadata": {},
     "output_type": "execute_result"
    }
   ],
   "source": [
    "convBS.convtbls[1].find_all('tr')"
   ]
  },
  {
   "cell_type": "code",
   "execution_count": 55,
   "metadata": {
    "collapsed": false
   },
   "outputs": [
    {
     "name": "stdout",
     "output_type": "stream",
     "text": [
      "[<td colspan=\"4\"><strong>ACCELERATION</strong></td>]\n",
      "[]\n",
      "[<td>acceleration of free fall, standard (<em>g</em><sub>n</sub>)</td>, <td>meter per second squared (m/s<sup>2</sup>)</td>, <td><strong>9.806 65 </strong></td>, <td><strong>E+00</strong></td>]\n",
      "[<td>foot per second squared (ft/s<sup>2</sup>)</td>, <td>meter per second squared (m/s<sup>2</sup>)</td>, <td><strong>3.048</strong></td>, <td><strong>E-01</strong></td>]\n",
      "[<td>gal (Gal)</td>, <td>meter per second squared (m/s<sup>2</sup>)</td>, <td><strong>1.0</strong></td>, <td><strong>E-02</strong></td>]\n",
      "[<td>inch per second squared (in/s<sup>2</sup>)</td>, <td>meter per second squared (m/s<sup>2</sup>)</td>, <td><strong>2.54</strong></td>, <td><strong>E-02</strong></td>]\n"
     ]
    }
   ],
   "source": [
    "for rows in convBS.convtbls[1].find_all('tr'):\n",
    "    print rows.find_all('td')"
   ]
  },
  {
   "cell_type": "code",
   "execution_count": 73,
   "metadata": {
    "collapsed": false
   },
   "outputs": [
    {
     "name": "stdout",
     "output_type": "stream",
     "text": [
      "[u'ACCELERATION']\n",
      "[u'acceleration of free fall, standard (gn)', u'meter per second squared (m/s2)', u'9.806 65 ', u'E+00']\n",
      "[u'foot per second squared (ft/s2)', u'meter per second squared (m/s2)', u'3.048', u'E-01']\n",
      "[u'gal (Gal)', u'meter per second squared (m/s2)', u'1.0', u'E-02']\n",
      "[u'inch per second squared (in/s2)', u'meter per second squared (m/s2)', u'2.54', u'E-02']\n"
     ]
    }
   ],
   "source": [
    "for row in convBS.convtbls[1].find_all('tr'):\n",
    "    if row.find_all('td') != []:\n",
    "        if row.text != '':\n",
    "            rowsplit = row.text.split('\\n')\n",
    "#            print rowsplit\n",
    "            if u'' in rowsplit:\n",
    "                rowsplit.remove(u'')\n",
    "            print rowsplit"
   ]
  },
  {
   "cell_type": "code",
   "execution_count": 88,
   "metadata": {
    "collapsed": false
   },
   "outputs": [
    {
     "name": "stdout",
     "output_type": "stream",
     "text": [
      "ACCELERATION\n",
      "[u'acceleration of free fall, standard (gn)', u'meter per second squared (m/s2)', u'9.806 65 ', u'E+00', u'ACCELERATION']\n",
      "[u'foot per second squared (ft/s2)', u'meter per second squared (m/s2)', u'3.048', u'E-01', u'ACCELERATION']\n",
      "[u'gal (Gal)', u'meter per second squared (m/s2)', u'1.0', u'E-02', u'ACCELERATION']\n",
      "[u'inch per second squared (in/s2)', u'meter per second squared (m/s2)', u'2.54', u'E-02', u'ACCELERATION']\n"
     ]
    }
   ],
   "source": [
    "test_convdata=[]\n",
    "field_of_science = \"\"\n",
    "for row in convBS.convtbls[1].find_all('tr'):\n",
    "    if row.find_all('td') != []:\n",
    "        if row.text != '':\n",
    "            rowsplit = row.text.split('\\n')\n",
    "            if u'' in rowsplit:\n",
    "                rowsplit.remove(u'')\n",
    "            if len(rowsplit) is 1:\n",
    "                field_of_science = rowsplit[0]\n",
    "                print field_of_science\n",
    "            elif field_of_science is not \"\":\n",
    "                rowsplit.append(field_of_science)\n",
    "                print rowsplit\n",
    "#            print len(row.find_all('td')) \n",
    "                if len(row.find_all('td')) is (len(headers)+1):\n",
    "                    test_convdata.append( rowsplit )"
   ]
  },
  {
   "cell_type": "code",
   "execution_count": 89,
   "metadata": {
    "collapsed": false
   },
   "outputs": [
    {
     "data": {
      "text/plain": [
       "[[u'acceleration of free fall, standard (gn)',\n",
       "  u'meter per second squared (m/s2)',\n",
       "  u'9.806 65 ',\n",
       "  u'E+00',\n",
       "  u'ACCELERATION'],\n",
       " [u'foot per second squared (ft/s2)',\n",
       "  u'meter per second squared (m/s2)',\n",
       "  u'3.048',\n",
       "  u'E-01',\n",
       "  u'ACCELERATION'],\n",
       " [u'gal (Gal)',\n",
       "  u'meter per second squared (m/s2)',\n",
       "  u'1.0',\n",
       "  u'E-02',\n",
       "  u'ACCELERATION'],\n",
       " [u'inch per second squared (in/s2)',\n",
       "  u'meter per second squared (m/s2)',\n",
       "  u'2.54',\n",
       "  u'E-02',\n",
       "  u'ACCELERATION']]"
      ]
     },
     "execution_count": 89,
     "metadata": {},
     "output_type": "execute_result"
    }
   ],
   "source": [
    "test_convdata"
   ]
  },
  {
   "cell_type": "code",
   "execution_count": 10,
   "metadata": {
    "collapsed": false
   },
   "outputs": [],
   "source": [
    "from NISTFund import make_conv_lst"
   ]
  },
  {
   "cell_type": "code",
   "execution_count": 11,
   "metadata": {
    "collapsed": false
   },
   "outputs": [
    {
     "ename": "AttributeError",
     "evalue": "'unicode' object has no attribute 'text'",
     "output_type": "error",
     "traceback": [
      "\u001b[1;31m---------------------------------------------------------------------------\u001b[0m",
      "\u001b[1;31mAttributeError\u001b[0m                            Traceback (most recent call last)",
      "\u001b[1;32m<ipython-input-11-c31c6ac02305>\u001b[0m in \u001b[0;36m<module>\u001b[1;34m()\u001b[0m\n\u001b[1;32m----> 1\u001b[1;33m \u001b[0mtest_conv\u001b[0m\u001b[1;33m=\u001b[0m\u001b[0mmake_conv_lst\u001b[0m\u001b[1;33m(\u001b[0m\u001b[1;33m)\u001b[0m\u001b[1;33m\u001b[0m\u001b[0m\n\u001b[0m",
      "\u001b[1;32m/home/topolo/PropD/servetheloop/NISTFund/NISTFund.py\u001b[0m in \u001b[0;36mmake_conv_lst\u001b[1;34m(url)\u001b[0m\n\u001b[0;32m    248\u001b[0m         \u001b[1;32mfor\u001b[0m \u001b[0mrow\u001b[0m \u001b[1;32min\u001b[0m \u001b[0mconvdata2\u001b[0m\u001b[1;33m:\u001b[0m\u001b[1;33m\u001b[0m\u001b[0m\n\u001b[0;32m    249\u001b[0m                 \u001b[0mrowout\u001b[0m \u001b[1;33m=\u001b[0m \u001b[1;33m[\u001b[0m\u001b[1;33m]\u001b[0m\u001b[1;33m\u001b[0m\u001b[0m\n\u001b[1;32m--> 250\u001b[1;33m                 \u001b[0mrowout\u001b[0m\u001b[1;33m.\u001b[0m\u001b[0mappend\u001b[0m\u001b[1;33m(\u001b[0m \u001b[0mrow\u001b[0m\u001b[1;33m[\u001b[0m\u001b[1;36m0\u001b[0m\u001b[1;33m]\u001b[0m\u001b[1;33m.\u001b[0m\u001b[0mtext\u001b[0m\u001b[1;33m.\u001b[0m\u001b[0mstrip\u001b[0m\u001b[1;33m(\u001b[0m\u001b[1;33m)\u001b[0m\u001b[1;33m)\u001b[0m\u001b[1;33m\u001b[0m\u001b[0m\n\u001b[0m\u001b[0;32m    251\u001b[0m                 \u001b[0mrowout\u001b[0m\u001b[1;33m.\u001b[0m\u001b[0mappend\u001b[0m\u001b[1;33m(\u001b[0m \u001b[0mrow\u001b[0m\u001b[1;33m[\u001b[0m\u001b[1;36m1\u001b[0m\u001b[1;33m]\u001b[0m\u001b[1;33m.\u001b[0m\u001b[0mtext\u001b[0m\u001b[1;33m.\u001b[0m\u001b[0mstrip\u001b[0m\u001b[1;33m(\u001b[0m\u001b[1;33m)\u001b[0m \u001b[1;33m)\u001b[0m\u001b[1;33m\u001b[0m\u001b[0m\n\u001b[0;32m    252\u001b[0m                 \u001b[0mvalue\u001b[0m \u001b[1;33m=\u001b[0m \u001b[1;33m(\u001b[0m\u001b[0mrow\u001b[0m\u001b[1;33m[\u001b[0m\u001b[1;36m2\u001b[0m\u001b[1;33m]\u001b[0m\u001b[1;33m.\u001b[0m\u001b[0mtext\u001b[0m \u001b[1;33m+\u001b[0m \u001b[0mrow\u001b[0m\u001b[1;33m[\u001b[0m\u001b[1;36m3\u001b[0m\u001b[1;33m]\u001b[0m\u001b[1;33m.\u001b[0m\u001b[0mtext\u001b[0m\u001b[1;33m)\u001b[0m\u001b[1;33m.\u001b[0m\u001b[0mstrip\u001b[0m\u001b[1;33m(\u001b[0m\u001b[1;33m)\u001b[0m\u001b[1;33m.\u001b[0m\u001b[0mreplace\u001b[0m\u001b[1;33m(\u001b[0m\u001b[1;34mu'\\xa0'\u001b[0m\u001b[1;33m,\u001b[0m\u001b[1;34m' '\u001b[0m\u001b[1;33m)\u001b[0m\u001b[1;33m.\u001b[0m\u001b[0mreplace\u001b[0m\u001b[1;33m(\u001b[0m\u001b[1;34mu'\\n'\u001b[0m\u001b[1;33m,\u001b[0m\u001b[1;34m' '\u001b[0m\u001b[1;33m)\u001b[0m\u001b[1;33m.\u001b[0m\u001b[0mreplace\u001b[0m\u001b[1;33m(\u001b[0m\u001b[1;34m' '\u001b[0m\u001b[1;33m,\u001b[0m\u001b[1;34m''\u001b[0m\u001b[1;33m)\u001b[0m\u001b[1;33m\u001b[0m\u001b[0m\n",
      "\u001b[1;31mAttributeError\u001b[0m: 'unicode' object has no attribute 'text'"
     ]
    }
   ],
   "source": [
    "test_conv=make_conv_lst()"
   ]
  },
  {
   "cell_type": "code",
   "execution_count": 16,
   "metadata": {
    "collapsed": false
   },
   "outputs": [
    {
     "data": {
      "text/plain": [
       "[]"
      ]
     },
     "execution_count": 16,
     "metadata": {},
     "output_type": "execute_result"
    }
   ],
   "source": [
    "test_conv[2]"
   ]
  },
  {
   "cell_type": "markdown",
   "metadata": {},
   "source": [
    "Finally"
   ]
  },
  {
   "cell_type": "code",
   "execution_count": 6,
   "metadata": {
    "collapsed": false
   },
   "outputs": [
    {
     "name": "stderr",
     "output_type": "stream",
     "text": [
      "/home/topolo/Public/anaconda2/lib/python2.7/site-packages/bs4/__init__.py:166: UserWarning: No parser was explicitly specified, so I'm using the best available HTML parser for this system (\"lxml\"). This usually isn't a problem, but if you run this code on another system, or in a different virtual environment, it may use a different parser and behave differently.\n",
      "\n",
      "To get rid of this warning, change this:\n",
      "\n",
      " BeautifulSoup([your markup])\n",
      "\n",
      "to this:\n",
      "\n",
      " BeautifulSoup([your markup], \"lxml\")\n",
      "\n",
      "  markup_type=markup_type))\n"
     ]
    }
   ],
   "source": [
    "DF_alphaconv=make_pd_alphabeticalconv_lst()"
   ]
  },
  {
   "cell_type": "code",
   "execution_count": 7,
   "metadata": {
    "collapsed": false
   },
   "outputs": [
    {
     "data": {
      "text/html": [
       "<div>\n",
       "<table border=\"1\" class=\"dataframe\">\n",
       "  <thead>\n",
       "    <tr style=\"text-align: right;\">\n",
       "      <th></th>\n",
       "      <th>Toconvertfrom</th>\n",
       "      <th>to</th>\n",
       "      <th>Multiplyby</th>\n",
       "    </tr>\n",
       "  </thead>\n",
       "  <tbody>\n",
       "    <tr>\n",
       "      <th>0</th>\n",
       "      <td>abampere</td>\n",
       "      <td>ampere (A)</td>\n",
       "      <td>10</td>\n",
       "    </tr>\n",
       "    <tr>\n",
       "      <th>1</th>\n",
       "      <td>abcoulomb</td>\n",
       "      <td>coulomb (C)</td>\n",
       "      <td>10</td>\n",
       "    </tr>\n",
       "    <tr>\n",
       "      <th>2</th>\n",
       "      <td>abfarad</td>\n",
       "      <td>farad (F)</td>\n",
       "      <td>1.0E+9</td>\n",
       "    </tr>\n",
       "    <tr>\n",
       "      <th>3</th>\n",
       "      <td>abhenry</td>\n",
       "      <td>henry (H)</td>\n",
       "      <td>1.0E-9</td>\n",
       "    </tr>\n",
       "    <tr>\n",
       "      <th>4</th>\n",
       "      <td>abmho</td>\n",
       "      <td>siemens (S)</td>\n",
       "      <td>1.0E+9</td>\n",
       "    </tr>\n",
       "  </tbody>\n",
       "</table>\n",
       "</div>"
      ],
      "text/plain": [
       "  Toconvertfrom           to Multiplyby\n",
       "0      abampere   ampere (A)         10\n",
       "1     abcoulomb  coulomb (C)         10\n",
       "2       abfarad    farad (F)     1.0E+9\n",
       "3       abhenry    henry (H)     1.0E-9\n",
       "4         abmho  siemens (S)     1.0E+9"
      ]
     },
     "execution_count": 7,
     "metadata": {},
     "output_type": "execute_result"
    }
   ],
   "source": [
    "DF_alphaconv.head()"
   ]
  },
  {
   "cell_type": "code",
   "execution_count": 6,
   "metadata": {
    "collapsed": false
   },
   "outputs": [
    {
     "name": "stderr",
     "output_type": "stream",
     "text": [
      "/home/topolo/Public/anaconda2/lib/python2.7/site-packages/bs4/__init__.py:166: UserWarning: No parser was explicitly specified, so I'm using the best available HTML parser for this system (\"lxml\"). This usually isn't a problem, but if you run this code on another system, or in a different virtual environment, it may use a different parser and behave differently.\n",
      "\n",
      "To get rid of this warning, change this:\n",
      "\n",
      " BeautifulSoup([your markup])\n",
      "\n",
      "to this:\n",
      "\n",
      " BeautifulSoup([your markup], \"lxml\")\n",
      "\n",
      "  markup_type=markup_type))\n"
     ]
    },
    {
     "name": "stdout",
     "output_type": "stream",
     "text": [
      "This is what happens when I test the length of convdata and convdata2: \n",
      "True\n",
      "180\n",
      "180\n"
     ]
    }
   ],
   "source": [
    "DF_conv= make_pd_conv_lst()"
   ]
  },
  {
   "cell_type": "code",
   "execution_count": 8,
   "metadata": {
    "collapsed": false
   },
   "outputs": [
    {
     "name": "stdout",
     "output_type": "stream",
     "text": [
      "                              Toconvertfrom                               to  \\\n",
      "0  acceleration of free fall, standard (gn)  meter per second squared (m/s2)   \n",
      "1           foot per second squared (ft/s2)  meter per second squared (m/s2)   \n",
      "2                                 gal (Gal)  meter per second squared (m/s2)   \n",
      "3           inch per second squared (in/s2)  meter per second squared (m/s2)   \n",
      "4  acceleration of free fall, standard (gn)  meter per second squared (m/s2)   \n",
      "\n",
      "  Multiplyby          kind  \n",
      "0    9.80665  ACCELERATION  \n",
      "1     0.3048  ACCELERATION  \n",
      "2      0.010  ACCELERATION  \n",
      "3     0.0254  ACCELERATION  \n",
      "4    9.80665  ACCELERATION  \n"
     ]
    },
    {
     "data": {
      "text/html": [
       "<div>\n",
       "<table border=\"1\" class=\"dataframe\">\n",
       "  <thead>\n",
       "    <tr style=\"text-align: right;\">\n",
       "      <th></th>\n",
       "      <th>Toconvertfrom</th>\n",
       "      <th>to</th>\n",
       "      <th>Multiplyby</th>\n",
       "      <th>kind</th>\n",
       "    </tr>\n",
       "  </thead>\n",
       "  <tbody>\n",
       "    <tr>\n",
       "      <th>count</th>\n",
       "      <td>180</td>\n",
       "      <td>180</td>\n",
       "      <td>180</td>\n",
       "      <td>180</td>\n",
       "    </tr>\n",
       "    <tr>\n",
       "      <th>unique</th>\n",
       "      <td>4</td>\n",
       "      <td>1</td>\n",
       "      <td>4</td>\n",
       "      <td>1</td>\n",
       "    </tr>\n",
       "    <tr>\n",
       "      <th>top</th>\n",
       "      <td>foot per second squared (ft/s2)</td>\n",
       "      <td>meter per second squared (m/s2)</td>\n",
       "      <td>0.3048</td>\n",
       "      <td>ACCELERATION</td>\n",
       "    </tr>\n",
       "    <tr>\n",
       "      <th>freq</th>\n",
       "      <td>45</td>\n",
       "      <td>180</td>\n",
       "      <td>45</td>\n",
       "      <td>180</td>\n",
       "    </tr>\n",
       "  </tbody>\n",
       "</table>\n",
       "</div>"
      ],
      "text/plain": [
       "                          Toconvertfrom                               to  \\\n",
       "count                               180                              180   \n",
       "unique                                4                                1   \n",
       "top     foot per second squared (ft/s2)  meter per second squared (m/s2)   \n",
       "freq                                 45                              180   \n",
       "\n",
       "       Multiplyby          kind  \n",
       "count         180           180  \n",
       "unique          4             1  \n",
       "top        0.3048  ACCELERATION  \n",
       "freq           45           180  "
      ]
     },
     "execution_count": 8,
     "metadata": {},
     "output_type": "execute_result"
    }
   ],
   "source": [
    "print( DF_conv.head() )\n",
    "DF_conv.describe()\n"
   ]
  },
  {
   "cell_type": "markdown",
   "metadata": {},
   "source": [
    "## Once the data has all been made, you only need to run the following 3 commands to start using the data "
   ]
  },
  {
   "cell_type": "code",
   "execution_count": 9,
   "metadata": {
    "collapsed": true
   },
   "outputs": [],
   "source": [
    "FundConst = init_FundConst()"
   ]
  },
  {
   "cell_type": "code",
   "execution_count": 10,
   "metadata": {
    "collapsed": true
   },
   "outputs": [],
   "source": [
    "conv = pd.read_pickle('./rawdata/DF_conv')\n",
    "alphaconv = pd.read_pickle('./rawdata/DF_alphabeticalconv')\n"
   ]
  },
  {
   "cell_type": "code",
   "execution_count": 12,
   "metadata": {
    "collapsed": false
   },
   "outputs": [
    {
     "data": {
      "text/html": [
       "<div>\n",
       "<table border=\"1\" class=\"dataframe\">\n",
       "  <thead>\n",
       "    <tr style=\"text-align: right;\">\n",
       "      <th></th>\n",
       "      <th>Toconvertfrom</th>\n",
       "      <th>to</th>\n",
       "      <th>Multiplyby</th>\n",
       "    </tr>\n",
       "  </thead>\n",
       "  <tbody>\n",
       "    <tr>\n",
       "      <th>0</th>\n",
       "      <td>abampere</td>\n",
       "      <td>ampere (A)</td>\n",
       "      <td>10</td>\n",
       "    </tr>\n",
       "    <tr>\n",
       "      <th>1</th>\n",
       "      <td>abcoulomb</td>\n",
       "      <td>coulomb (C)</td>\n",
       "      <td>10</td>\n",
       "    </tr>\n",
       "    <tr>\n",
       "      <th>2</th>\n",
       "      <td>abfarad</td>\n",
       "      <td>farad (F)</td>\n",
       "      <td>1.0E+9</td>\n",
       "    </tr>\n",
       "    <tr>\n",
       "      <th>3</th>\n",
       "      <td>abhenry</td>\n",
       "      <td>henry (H)</td>\n",
       "      <td>1.0E-9</td>\n",
       "    </tr>\n",
       "    <tr>\n",
       "      <th>4</th>\n",
       "      <td>abmho</td>\n",
       "      <td>siemens (S)</td>\n",
       "      <td>1.0E+9</td>\n",
       "    </tr>\n",
       "    <tr>\n",
       "      <th>5</th>\n",
       "      <td>abohm</td>\n",
       "      <td>ohm (Ω)</td>\n",
       "      <td>1.0E-9</td>\n",
       "    </tr>\n",
       "    <tr>\n",
       "      <th>6</th>\n",
       "      <td>abvolt</td>\n",
       "      <td>volt (V)</td>\n",
       "      <td>1.0E-8</td>\n",
       "    </tr>\n",
       "    <tr>\n",
       "      <th>7</th>\n",
       "      <td>acceleration of free fall, standard (gn)</td>\n",
       "      <td>meter per second squared (m / s2)</td>\n",
       "      <td>9.80665</td>\n",
       "    </tr>\n",
       "    <tr>\n",
       "      <th>8</th>\n",
       "      <td>acre (based on U.S. survey foot)</td>\n",
       "      <td>square meter (m2)</td>\n",
       "      <td>4046.873</td>\n",
       "    </tr>\n",
       "    <tr>\n",
       "      <th>9</th>\n",
       "      <td>acre foot (based on U.S. survey foot) 7</td>\n",
       "      <td>cubic meter (m3)</td>\n",
       "      <td>1233.489</td>\n",
       "    </tr>\n",
       "    <tr>\n",
       "      <th>10</th>\n",
       "      <td>ampere hour (A · h)</td>\n",
       "      <td>coulomb (C)</td>\n",
       "      <td>3.6E+3</td>\n",
       "    </tr>\n",
       "    <tr>\n",
       "      <th>11</th>\n",
       "      <td>ångström (Å)</td>\n",
       "      <td>meter (m)</td>\n",
       "      <td>1.0E-10</td>\n",
       "    </tr>\n",
       "    <tr>\n",
       "      <th>12</th>\n",
       "      <td>ångström (Å)</td>\n",
       "      <td>nanometer (nm)</td>\n",
       "      <td>0.10</td>\n",
       "    </tr>\n",
       "    <tr>\n",
       "      <th>13</th>\n",
       "      <td>are (a)</td>\n",
       "      <td>square meter (m2)</td>\n",
       "      <td>1.0E+2</td>\n",
       "    </tr>\n",
       "    <tr>\n",
       "      <th>14</th>\n",
       "      <td>astronomical unit (ua)</td>\n",
       "      <td>meter (m)</td>\n",
       "      <td>1.495979E+11</td>\n",
       "    </tr>\n",
       "    <tr>\n",
       "      <th>15</th>\n",
       "      <td>atmosphere, standard (atm)</td>\n",
       "      <td>pascal (Pa)</td>\n",
       "      <td>101325</td>\n",
       "    </tr>\n",
       "    <tr>\n",
       "      <th>16</th>\n",
       "      <td>atmosphere, standard (atm)</td>\n",
       "      <td>kilopascal (kPa)</td>\n",
       "      <td>101.325</td>\n",
       "    </tr>\n",
       "    <tr>\n",
       "      <th>17</th>\n",
       "      <td>atmosphere, technical (at) 8</td>\n",
       "      <td>pascal (Pa)</td>\n",
       "      <td>98066.5</td>\n",
       "    </tr>\n",
       "    <tr>\n",
       "      <th>18</th>\n",
       "      <td>atmosphere, technical (at) 8</td>\n",
       "      <td>kilopascal (kPa)</td>\n",
       "      <td>98.0665</td>\n",
       "    </tr>\n",
       "    <tr>\n",
       "      <th>19</th>\n",
       "      <td>bar (bar)</td>\n",
       "      <td>pascal (Pa)</td>\n",
       "      <td>1.0E+5</td>\n",
       "    </tr>\n",
       "    <tr>\n",
       "      <th>20</th>\n",
       "      <td>bar (bar)</td>\n",
       "      <td>kilopascal (kPa)</td>\n",
       "      <td>1.0E+2</td>\n",
       "    </tr>\n",
       "    <tr>\n",
       "      <th>21</th>\n",
       "      <td>barn (b)</td>\n",
       "      <td>square meter (m2)</td>\n",
       "      <td>1.0E-28</td>\n",
       "    </tr>\n",
       "    <tr>\n",
       "      <th>22</th>\n",
       "      <td>barrel [for petroleum, 42 gallons (U.S.)] (bbl)</td>\n",
       "      <td>cubic meter (m3)</td>\n",
       "      <td>0.1589873</td>\n",
       "    </tr>\n",
       "    <tr>\n",
       "      <th>23</th>\n",
       "      <td>barrel [for petroleum, 42 gallons (U.S.)] (bbl)</td>\n",
       "      <td>liter (L)</td>\n",
       "      <td>158.9873</td>\n",
       "    </tr>\n",
       "    <tr>\n",
       "      <th>24</th>\n",
       "      <td>biot (Bi)</td>\n",
       "      <td>ampere (A)</td>\n",
       "      <td>10</td>\n",
       "    </tr>\n",
       "    <tr>\n",
       "      <th>25</th>\n",
       "      <td>British thermal unitIT(BtuIT)9</td>\n",
       "      <td>joule (J)</td>\n",
       "      <td>1055.056</td>\n",
       "    </tr>\n",
       "    <tr>\n",
       "      <th>26</th>\n",
       "      <td>British thermal unitth(Btuth) 9</td>\n",
       "      <td>joule (J)</td>\n",
       "      <td>1054.350</td>\n",
       "    </tr>\n",
       "    <tr>\n",
       "      <th>27</th>\n",
       "      <td>British thermal unit (mean) (Btu)</td>\n",
       "      <td>joule (J)</td>\n",
       "      <td>1055.87</td>\n",
       "    </tr>\n",
       "    <tr>\n",
       "      <th>28</th>\n",
       "      <td>British thermal unit (39 °F) (Btu)</td>\n",
       "      <td>joule (J)</td>\n",
       "      <td>1059.67</td>\n",
       "    </tr>\n",
       "    <tr>\n",
       "      <th>29</th>\n",
       "      <td>British thermal unit (59 °F) (Btu)</td>\n",
       "      <td>joule (J)</td>\n",
       "      <td>1054.80</td>\n",
       "    </tr>\n",
       "    <tr>\n",
       "      <th>...</th>\n",
       "      <td>...</td>\n",
       "      <td>...</td>\n",
       "      <td>...</td>\n",
       "    </tr>\n",
       "    <tr>\n",
       "      <th>415</th>\n",
       "      <td>tablespoon</td>\n",
       "      <td>milliliter (mL)</td>\n",
       "      <td>14.78676</td>\n",
       "    </tr>\n",
       "    <tr>\n",
       "      <th>416</th>\n",
       "      <td>teaspoon</td>\n",
       "      <td>cubic meter (m3)</td>\n",
       "      <td>0.000004928922</td>\n",
       "    </tr>\n",
       "    <tr>\n",
       "      <th>417</th>\n",
       "      <td>teaspoon</td>\n",
       "      <td>milliliter (mL)</td>\n",
       "      <td>4.928922</td>\n",
       "    </tr>\n",
       "    <tr>\n",
       "      <th>418</th>\n",
       "      <td>tex</td>\n",
       "      <td>kilogram per meter (kg/m)</td>\n",
       "      <td>0.0000010</td>\n",
       "    </tr>\n",
       "    <tr>\n",
       "      <th>419</th>\n",
       "      <td>therm (EC) 24</td>\n",
       "      <td>joule (J)</td>\n",
       "      <td>1.05506E+8</td>\n",
       "    </tr>\n",
       "    <tr>\n",
       "      <th>420</th>\n",
       "      <td>therm (U.S.) 24</td>\n",
       "      <td>joule (J)</td>\n",
       "      <td>1.054804E+8</td>\n",
       "    </tr>\n",
       "    <tr>\n",
       "      <th>421</th>\n",
       "      <td>ton, assay (AT)</td>\n",
       "      <td>kilogram (kg)</td>\n",
       "      <td>0.02916667</td>\n",
       "    </tr>\n",
       "    <tr>\n",
       "      <th>422</th>\n",
       "      <td>ton, assay (AT)</td>\n",
       "      <td>gram (g)</td>\n",
       "      <td>29.16667</td>\n",
       "    </tr>\n",
       "    <tr>\n",
       "      <th>423</th>\n",
       "      <td>ton-force (2000 lbf)</td>\n",
       "      <td>newton (N)</td>\n",
       "      <td>8896.443</td>\n",
       "    </tr>\n",
       "    <tr>\n",
       "      <th>424</th>\n",
       "      <td>ton-force (2000 lbf)</td>\n",
       "      <td>kilonewton (kN)</td>\n",
       "      <td>8.896443</td>\n",
       "    </tr>\n",
       "    <tr>\n",
       "      <th>425</th>\n",
       "      <td>ton, long (2240 lb)</td>\n",
       "      <td>kilogram (kg)</td>\n",
       "      <td>1016.047</td>\n",
       "    </tr>\n",
       "    <tr>\n",
       "      <th>426</th>\n",
       "      <td>ton, long, per cubic yard</td>\n",
       "      <td>kilogram per cubic meter (kg/m3)</td>\n",
       "      <td>1328.939</td>\n",
       "    </tr>\n",
       "    <tr>\n",
       "      <th>427</th>\n",
       "      <td>ton, metric (t)</td>\n",
       "      <td>kilogram (kg)</td>\n",
       "      <td>1.0E+3</td>\n",
       "    </tr>\n",
       "    <tr>\n",
       "      <th>428</th>\n",
       "      <td>tonne (called \"metric ton\" in U.S.) (t)</td>\n",
       "      <td>kilogram (kg)</td>\n",
       "      <td>1.0E+3</td>\n",
       "    </tr>\n",
       "    <tr>\n",
       "      <th>429</th>\n",
       "      <td>ton of refrigeration (12 000 BtuIT/h)</td>\n",
       "      <td>watt (W)</td>\n",
       "      <td>3516.853</td>\n",
       "    </tr>\n",
       "    <tr>\n",
       "      <th>430</th>\n",
       "      <td>ton of TNT (energy equivalent) 25</td>\n",
       "      <td>joule (J)</td>\n",
       "      <td>4.184E+9</td>\n",
       "    </tr>\n",
       "    <tr>\n",
       "      <th>431</th>\n",
       "      <td>ton, register</td>\n",
       "      <td>cubic meter (m3)</td>\n",
       "      <td>2.831685</td>\n",
       "    </tr>\n",
       "    <tr>\n",
       "      <th>432</th>\n",
       "      <td>ton, short (2000 lb)</td>\n",
       "      <td>kilogram (kg)</td>\n",
       "      <td>907.1847</td>\n",
       "    </tr>\n",
       "    <tr>\n",
       "      <th>433</th>\n",
       "      <td>ton, short, per cubic yard</td>\n",
       "      <td>kilogram per cubic meter (kg/m3)</td>\n",
       "      <td>1186.553</td>\n",
       "    </tr>\n",
       "    <tr>\n",
       "      <th>434</th>\n",
       "      <td>ton, short, per hour</td>\n",
       "      <td>kilogram per second (kg/s)</td>\n",
       "      <td>0.2519958</td>\n",
       "    </tr>\n",
       "    <tr>\n",
       "      <th>435</th>\n",
       "      <td>torr (Torr)</td>\n",
       "      <td>pascal (Pa)</td>\n",
       "      <td>133.3224</td>\n",
       "    </tr>\n",
       "    <tr>\n",
       "      <th>436</th>\n",
       "      <td>unit pole</td>\n",
       "      <td>weber (Wb)</td>\n",
       "      <td>1.256637E-7</td>\n",
       "    </tr>\n",
       "    <tr>\n",
       "      <th>437</th>\n",
       "      <td>watt hour (W · h)</td>\n",
       "      <td>joule (J)</td>\n",
       "      <td>3.6E+3</td>\n",
       "    </tr>\n",
       "    <tr>\n",
       "      <th>438</th>\n",
       "      <td>watt per square centimeter (W/cm2)</td>\n",
       "      <td>watt per square meter (W/m2)</td>\n",
       "      <td>1.0E+4</td>\n",
       "    </tr>\n",
       "    <tr>\n",
       "      <th>439</th>\n",
       "      <td>watt per square inch (W/in2)</td>\n",
       "      <td>watt per square meter (W/m2)</td>\n",
       "      <td>1550.003</td>\n",
       "    </tr>\n",
       "    <tr>\n",
       "      <th>440</th>\n",
       "      <td>watt second (W · s)</td>\n",
       "      <td>joule (J)</td>\n",
       "      <td>1.0</td>\n",
       "    </tr>\n",
       "    <tr>\n",
       "      <th>441</th>\n",
       "      <td>yard (yd)</td>\n",
       "      <td>meter (m)</td>\n",
       "      <td>0.9144</td>\n",
       "    </tr>\n",
       "    <tr>\n",
       "      <th>442</th>\n",
       "      <td>year (365 days)</td>\n",
       "      <td>second (s)</td>\n",
       "      <td>3.1536E+7</td>\n",
       "    </tr>\n",
       "    <tr>\n",
       "      <th>443</th>\n",
       "      <td>year (sidereal)</td>\n",
       "      <td>second (s)</td>\n",
       "      <td>3.155815E+7</td>\n",
       "    </tr>\n",
       "    <tr>\n",
       "      <th>444</th>\n",
       "      <td>year (tropical)</td>\n",
       "      <td>second (s)</td>\n",
       "      <td>3.155693E+7</td>\n",
       "    </tr>\n",
       "  </tbody>\n",
       "</table>\n",
       "<p>445 rows × 3 columns</p>\n",
       "</div>"
      ],
      "text/plain": [
       "                                       Toconvertfrom  \\\n",
       "0                                           abampere   \n",
       "1                                          abcoulomb   \n",
       "2                                            abfarad   \n",
       "3                                            abhenry   \n",
       "4                                              abmho   \n",
       "5                                              abohm   \n",
       "6                                             abvolt   \n",
       "7           acceleration of free fall, standard (gn)   \n",
       "8                   acre (based on U.S. survey foot)   \n",
       "9            acre foot (based on U.S. survey foot) 7   \n",
       "10                               ampere hour (A · h)   \n",
       "11                                      ångström (Å)   \n",
       "12                                      ångström (Å)   \n",
       "13                                           are (a)   \n",
       "14                            astronomical unit (ua)   \n",
       "15                        atmosphere, standard (atm)   \n",
       "16                        atmosphere, standard (atm)   \n",
       "17                      atmosphere, technical (at) 8   \n",
       "18                      atmosphere, technical (at) 8   \n",
       "19                                         bar (bar)   \n",
       "20                                         bar (bar)   \n",
       "21                                          barn (b)   \n",
       "22   barrel [for petroleum, 42 gallons (U.S.)] (bbl)   \n",
       "23   barrel [for petroleum, 42 gallons (U.S.)] (bbl)   \n",
       "24                                         biot (Bi)   \n",
       "25                    British thermal unitIT(BtuIT)9   \n",
       "26                   British thermal unitth(Btuth) 9   \n",
       "27                 British thermal unit (mean) (Btu)   \n",
       "28                British thermal unit (39 °F) (Btu)   \n",
       "29                British thermal unit (59 °F) (Btu)   \n",
       "..                                               ...   \n",
       "415                                       tablespoon   \n",
       "416                                         teaspoon   \n",
       "417                                         teaspoon   \n",
       "418                                              tex   \n",
       "419                                    therm (EC) 24   \n",
       "420                                  therm (U.S.) 24   \n",
       "421                                  ton, assay (AT)   \n",
       "422                                  ton, assay (AT)   \n",
       "423                             ton-force (2000 lbf)   \n",
       "424                             ton-force (2000 lbf)   \n",
       "425                              ton, long (2240 lb)   \n",
       "426                        ton, long, per cubic yard   \n",
       "427                                  ton, metric (t)   \n",
       "428          tonne (called \"metric ton\" in U.S.) (t)   \n",
       "429            ton of refrigeration (12 000 BtuIT/h)   \n",
       "430                ton of TNT (energy equivalent) 25   \n",
       "431                                    ton, register   \n",
       "432                             ton, short (2000 lb)   \n",
       "433                       ton, short, per cubic yard   \n",
       "434                             ton, short, per hour   \n",
       "435                                      torr (Torr)   \n",
       "436                                        unit pole   \n",
       "437                                watt hour (W · h)   \n",
       "438               watt per square centimeter (W/cm2)   \n",
       "439                     watt per square inch (W/in2)   \n",
       "440                              watt second (W · s)   \n",
       "441                                        yard (yd)   \n",
       "442                                  year (365 days)   \n",
       "443                                  year (sidereal)   \n",
       "444                                  year (tropical)   \n",
       "\n",
       "                                    to      Multiplyby  \n",
       "0                           ampere (A)              10  \n",
       "1                          coulomb (C)              10  \n",
       "2                            farad (F)          1.0E+9  \n",
       "3                            henry (H)          1.0E-9  \n",
       "4                          siemens (S)          1.0E+9  \n",
       "5                              ohm (Ω)          1.0E-9  \n",
       "6                             volt (V)          1.0E-8  \n",
       "7    meter per second squared (m / s2)         9.80665  \n",
       "8                    square meter (m2)        4046.873  \n",
       "9                     cubic meter (m3)        1233.489  \n",
       "10                         coulomb (C)          3.6E+3  \n",
       "11                           meter (m)         1.0E-10  \n",
       "12                      nanometer (nm)            0.10  \n",
       "13                   square meter (m2)          1.0E+2  \n",
       "14                           meter (m)    1.495979E+11  \n",
       "15                         pascal (Pa)          101325  \n",
       "16                    kilopascal (kPa)         101.325  \n",
       "17                         pascal (Pa)         98066.5  \n",
       "18                    kilopascal (kPa)         98.0665  \n",
       "19                         pascal (Pa)          1.0E+5  \n",
       "20                    kilopascal (kPa)          1.0E+2  \n",
       "21                   square meter (m2)         1.0E-28  \n",
       "22                    cubic meter (m3)       0.1589873  \n",
       "23                           liter (L)        158.9873  \n",
       "24                          ampere (A)              10  \n",
       "25                           joule (J)        1055.056  \n",
       "26                           joule (J)        1054.350  \n",
       "27                           joule (J)         1055.87  \n",
       "28                           joule (J)         1059.67  \n",
       "29                           joule (J)         1054.80  \n",
       "..                                 ...             ...  \n",
       "415                    milliliter (mL)        14.78676  \n",
       "416                   cubic meter (m3)  0.000004928922  \n",
       "417                    milliliter (mL)        4.928922  \n",
       "418          kilogram per meter (kg/m)       0.0000010  \n",
       "419                          joule (J)      1.05506E+8  \n",
       "420                          joule (J)     1.054804E+8  \n",
       "421                      kilogram (kg)      0.02916667  \n",
       "422                           gram (g)        29.16667  \n",
       "423                         newton (N)        8896.443  \n",
       "424                    kilonewton (kN)        8.896443  \n",
       "425                      kilogram (kg)        1016.047  \n",
       "426   kilogram per cubic meter (kg/m3)        1328.939  \n",
       "427                      kilogram (kg)          1.0E+3  \n",
       "428                      kilogram (kg)          1.0E+3  \n",
       "429                           watt (W)        3516.853  \n",
       "430                          joule (J)        4.184E+9  \n",
       "431                   cubic meter (m3)        2.831685  \n",
       "432                      kilogram (kg)        907.1847  \n",
       "433   kilogram per cubic meter (kg/m3)        1186.553  \n",
       "434         kilogram per second (kg/s)       0.2519958  \n",
       "435                        pascal (Pa)        133.3224  \n",
       "436                         weber (Wb)     1.256637E-7  \n",
       "437                          joule (J)          3.6E+3  \n",
       "438       watt per square meter (W/m2)          1.0E+4  \n",
       "439       watt per square meter (W/m2)        1550.003  \n",
       "440                          joule (J)             1.0  \n",
       "441                          meter (m)          0.9144  \n",
       "442                         second (s)       3.1536E+7  \n",
       "443                         second (s)     3.155815E+7  \n",
       "444                         second (s)     3.155693E+7  \n",
       "\n",
       "[445 rows x 3 columns]"
      ]
     },
     "execution_count": 12,
     "metadata": {},
     "output_type": "execute_result"
    }
   ],
   "source": [
    "alphaconv"
   ]
  },
  {
   "cell_type": "code",
   "execution_count": null,
   "metadata": {
    "collapsed": true
   },
   "outputs": [],
   "source": []
  }
 ],
 "metadata": {
  "kernelspec": {
   "display_name": "Python 2",
   "language": "python",
   "name": "python2"
  },
  "language_info": {
   "codemirror_mode": {
    "name": "ipython",
    "version": 2
   },
   "file_extension": ".py",
   "mimetype": "text/x-python",
   "name": "python",
   "nbconvert_exporter": "python",
   "pygments_lexer": "ipython2",
   "version": "2.7.11"
  }
 },
 "nbformat": 4,
 "nbformat_minor": 0
}
